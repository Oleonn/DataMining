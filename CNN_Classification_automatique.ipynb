{
  "nbformat": 4,
  "nbformat_minor": 0,
  "metadata": {
    "colab": {
      "provenance": [],
      "authorship_tag": "ABX9TyM7f7nSh3uzqFN/sK80xKS3",
      "include_colab_link": true
    },
    "kernelspec": {
      "name": "python3",
      "display_name": "Python 3"
    },
    "language_info": {
      "name": "python"
    }
  },
  "cells": [
    {
      "cell_type": "markdown",
      "metadata": {
        "id": "view-in-github",
        "colab_type": "text"
      },
      "source": [
        "<a href=\"https://colab.research.google.com/github/Oleonn/DataMining/blob/Classification/CNN_Classification_automatique.ipynb\" target=\"_parent\"><img src=\"https://colab.research.google.com/assets/colab-badge.svg\" alt=\"Open In Colab\"/></a>"
      ]
    },
    {
      "cell_type": "code",
      "execution_count": null,
      "metadata": {
        "id": "YYP-JSu1SxGO"
      },
      "outputs": [],
      "source": [
        "#-----Imports et installations-----\n",
        "#Pour se connecter au drive et acceder a ses fichiers\n",
        "from google.colab import drive\n",
        "drive.mount('/content/drive', force_remount=True)\n",
        "#Pour l'apprentissage profond\n",
        "import os\n",
        "from fastai.vision.all import *\n",
        "from fastai.vision import *\n",
        "import pandas as pd"
      ]
    },
    {
      "cell_type": "code",
      "source": [
        "Espece_visee = \"Solcan\"\n",
        "Chemin_donnees = \"/content/drive/MyDrive/Projet_mellifere/Solidago_canadensis\""
      ],
      "metadata": {
        "id": "eOGDUp6KqfxZ"
      },
      "execution_count": 41,
      "outputs": []
    },
    {
      "cell_type": "code",
      "source": [
        "Noms_classes = []\n",
        "for Noms_dossiers in os.listdir(Chemin_donnees):\n",
        "    if Noms_dossiers.endswith(\".txt\"):\n",
        "        continue\n",
        "    else:\n",
        "        Noms_classes.append(Noms_dossiers)"
      ],
      "metadata": {
        "id": "Rimt7ReOr0s-"
      },
      "execution_count": 15,
      "outputs": []
    },
    {
      "cell_type": "code",
      "source": [
        "Chemins_images = []\n",
        "Etiquettes = []\n",
        "\n",
        "for i in range(len(Noms_classes)):\n",
        "    Classe_nom = Noms_classes[i]\n",
        "    if \".\" in Classe_nom:\n",
        "       continue\n",
        "    else:        \n",
        "        Noms_images = os.listdir(f\"{Chemin_donnees}/{Classe_nom}\")\n",
        "        for Image_nom in Noms_images:\n",
        "            Image_chemin = f\"{Chemin_donnees}/{Classe_nom}/{Image_nom}\"\n",
        "            Chemins_images.append(Image_chemin)\n",
        "            Etiquettes.append(i)"
      ],
      "metadata": {
        "id": "eWWW0KjOsQ3F"
      },
      "execution_count": 30,
      "outputs": []
    },
    {
      "cell_type": "code",
      "source": [
        "df = pd.DataFrame(\n",
        "    {\n",
        "        \"Nom\": Chemins_images,\n",
        "        \"Etiquette\": Etiquettes\n",
        "    }\n",
        ")"
      ],
      "metadata": {
        "id": "gw5NrzaSxdMP"
      },
      "execution_count": 31,
      "outputs": []
    },
    {
      "cell_type": "code",
      "source": [
        "df.to_csv(\n",
        "    path_or_buf=f\"{Chemin_donnees}/etiquettes.csv\",\n",
        "    index=False\n",
        ")"
      ],
      "metadata": {
        "id": "4gnBBzBXystt"
      },
      "execution_count": 32,
      "outputs": []
    },
    {
      "cell_type": "markdown",
      "source": [
        "Telechargement des donnees"
      ],
      "metadata": {
        "id": "u0Eag81U0IED"
      }
    },
    {
      "cell_type": "code",
      "source": [
        "dls = ImageDataLoaders.from_folder(\n",
        "      path=Chemin_donnees,\n",
        "      item_tfms=Resize(224),\n",
        "      bs=16,\n",
        "      batch_tfms=[Normalize.from_stats(*imagenet_stats), RandTransform()],\n",
        "      valid_pct=0.2\n",
        ")"
      ],
      "metadata": {
        "id": "YwUCPi8c0KgT"
      },
      "execution_count": 33,
      "outputs": []
    },
    {
      "cell_type": "markdown",
      "source": [
        "Creation du modele"
      ],
      "metadata": {
        "id": "6-K9e_w81CbH"
      }
    },
    {
      "cell_type": "code",
      "source": [
        "Modele = vision_learner(\n",
        "    dls=dls,\n",
        "    arch=models.resnet18,\n",
        "    metrics=[accuracy, error_rate]\n",
        ")"
      ],
      "metadata": {
        "id": "TQjXxNSI1EqN"
      },
      "execution_count": null,
      "outputs": []
    },
    {
      "cell_type": "code",
      "source": [
        "Nb_epochs = 1\n",
        "Performance = []\n",
        "\n",
        "for epoch in range(Nb_epochs):\n",
        "    Modele.fit_one_cycle(1)\n",
        "    Modele.save(f\"CNN_{Espece_visee}_epoch{epoch}.pth\")\n",
        "    Perfo = Modele.recorder.final_record\n",
        "    Performance.append(Perfo)"
      ],
      "metadata": {
        "colab": {
          "base_uri": "https://localhost:8080/",
          "height": 81
        },
        "id": "I2PDzCoh1kfT",
        "outputId": "393e571b-e7b3-41cf-c539-fbc3fa591cc0"
      },
      "execution_count": 40,
      "outputs": [
        {
          "output_type": "display_data",
          "data": {
            "text/plain": [
              "<IPython.core.display.HTML object>"
            ],
            "text/html": [
              "\n",
              "<style>\n",
              "    /* Turns off some styling */\n",
              "    progress {\n",
              "        /* gets rid of default border in Firefox and Opera. */\n",
              "        border: none;\n",
              "        /* Needs to be in here for Safari polyfill so background images work as expected. */\n",
              "        background-size: auto;\n",
              "    }\n",
              "    progress:not([value]), progress:not([value])::-webkit-progress-bar {\n",
              "        background: repeating-linear-gradient(45deg, #7e7e7e, #7e7e7e 10px, #5c5c5c 10px, #5c5c5c 20px);\n",
              "    }\n",
              "    .progress-bar-interrupted, .progress-bar-interrupted::-webkit-progress-bar {\n",
              "        background: #F44336;\n",
              "    }\n",
              "</style>\n"
            ]
          },
          "metadata": {}
        },
        {
          "output_type": "display_data",
          "data": {
            "text/plain": [
              "<IPython.core.display.HTML object>"
            ],
            "text/html": [
              "<table border=\"1\" class=\"dataframe\">\n",
              "  <thead>\n",
              "    <tr style=\"text-align: left;\">\n",
              "      <th>epoch</th>\n",
              "      <th>train_loss</th>\n",
              "      <th>valid_loss</th>\n",
              "      <th>accuracy</th>\n",
              "      <th>error_rate</th>\n",
              "      <th>time</th>\n",
              "    </tr>\n",
              "  </thead>\n",
              "  <tbody>\n",
              "    <tr>\n",
              "      <td>0</td>\n",
              "      <td>1.198279</td>\n",
              "      <td>1.065572</td>\n",
              "      <td>0.770000</td>\n",
              "      <td>0.230000</td>\n",
              "      <td>03:56</td>\n",
              "    </tr>\n",
              "  </tbody>\n",
              "</table>"
            ]
          },
          "metadata": {}
        }
      ]
    }
  ]
}