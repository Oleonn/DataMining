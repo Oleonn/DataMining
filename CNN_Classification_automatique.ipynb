{
  "nbformat": 4,
  "nbformat_minor": 0,
  "metadata": {
    "colab": {
      "provenance": [],
      "authorship_tag": "ABX9TyMmaQRl1HrK869NCp7LJy6N",
      "include_colab_link": true
    },
    "kernelspec": {
      "name": "python3",
      "display_name": "Python 3"
    },
    "language_info": {
      "name": "python"
    }
  },
  "cells": [
    {
      "cell_type": "markdown",
      "metadata": {
        "id": "view-in-github",
        "colab_type": "text"
      },
      "source": [
        "<a href=\"https://colab.research.google.com/github/Oleonn/DataMining/blob/Classification/CNN_Classification_automatique.ipynb\" target=\"_parent\"><img src=\"https://colab.research.google.com/assets/colab-badge.svg\" alt=\"Open In Colab\"/></a>"
      ]
    },
    {
      "cell_type": "code",
      "execution_count": 1,
      "metadata": {
        "id": "YYP-JSu1SxGO",
        "outputId": "90abee90-8a5e-4670-e4e4-1a19ed0389ed",
        "colab": {
          "base_uri": "https://localhost:8080/"
        }
      },
      "outputs": [
        {
          "output_type": "stream",
          "name": "stdout",
          "text": [
            "Mounted at /content/drive\n"
          ]
        }
      ],
      "source": [
        "#-----Imports et installations-----\n",
        "#Pour se connecter au drive et acceder a ses fichiers\n",
        "from google.colab import drive\n",
        "drive.mount('/content/drive', force_remount=True)\n",
        "#Pour l'apprentissage profond\n",
        "import os\n",
        "from fastai.vision.all import *\n",
        "from fastai.vision import *\n",
        "import pandas as pd"
      ]
    },
    {
      "cell_type": "code",
      "source": [
        "Espece_visee = \"Solcan\"\n",
        "Chemin_donnees = \"/content/drive/MyDrive/Projet_mellifere/Solidago_canadensis\""
      ],
      "metadata": {
        "id": "eOGDUp6KqfxZ"
      },
      "execution_count": 2,
      "outputs": []
    },
    {
      "cell_type": "code",
      "source": [
        "Noms_classes = []\n",
        "for Noms_dossiers in os.listdir(Chemin_donnees):\n",
        "    if (\".\" in Noms_dossiers) or (Noms_dossiers==\"models\"):\n",
        "        continue\n",
        "    else:\n",
        "        Noms_classes.append(Noms_dossiers)\n",
        "Noms_classes"
      ],
      "metadata": {
        "id": "Rimt7ReOr0s-"
      },
      "execution_count": null,
      "outputs": []
    },
    {
      "cell_type": "code",
      "source": [
        "Chemins_images = []\n",
        "Etiquettes = []\n",
        "\n",
        "for i in range(len(Noms_classes)):\n",
        "    Classe_nom = Noms_classes[i]\n",
        "    if \".\" in Classe_nom or Classe_nom==\"models\":\n",
        "       continue\n",
        "    else:        \n",
        "        Noms_images = os.listdir(f\"{Chemin_donnees}/{Classe_nom}\")\n",
        "        for Image_nom in Noms_images:\n",
        "            Image_chemin = f\"{Chemin_donnees}/{Classe_nom}/{Image_nom}\"\n",
        "            Chemins_images.append(Image_chemin)\n",
        "            Etiquettes.append(i)"
      ],
      "metadata": {
        "id": "eWWW0KjOsQ3F"
      },
      "execution_count": 6,
      "outputs": []
    },
    {
      "cell_type": "code",
      "source": [
        "df = pd.DataFrame(\n",
        "    {\n",
        "        \"Nom\": Chemins_images,\n",
        "        \"Etiquette\": Etiquettes\n",
        "    }\n",
        ")"
      ],
      "metadata": {
        "id": "gw5NrzaSxdMP",
        "outputId": "031b3ec0-110c-4d0d-8861-ea2edb3bbfb6",
        "colab": {
          "base_uri": "https://localhost:8080/",
          "height": 424
        }
      },
      "execution_count": 8,
      "outputs": [
        {
          "output_type": "execute_result",
          "data": {
            "text/plain": [
              "                                                                                        Nom  \\\n",
              "0            /content/drive/MyDrive/Projet_mellifere/Solidago_canadensis/Fleuri/468542.jpeg   \n",
              "1            /content/drive/MyDrive/Projet_mellifere/Solidago_canadensis/Fleuri/177001.jpeg   \n",
              "2            /content/drive/MyDrive/Projet_mellifere/Solidago_canadensis/Fleuri/177002.jpeg   \n",
              "3            /content/drive/MyDrive/Projet_mellifere/Solidago_canadensis/Fleuri/176611.jpeg   \n",
              "4         /content/drive/MyDrive/Projet_mellifere/Solidago_canadensis/Fleuri/266540181.jpeg   \n",
              "..                                                                                      ...   \n",
              "995  /content/drive/MyDrive/Projet_mellifere/Solidago_canadensis/Trop proche/250161201.jpeg   \n",
              "996  /content/drive/MyDrive/Projet_mellifere/Solidago_canadensis/Trop proche/250161063.jpeg   \n",
              "997  /content/drive/MyDrive/Projet_mellifere/Solidago_canadensis/Trop proche/250161168.jpeg   \n",
              "998  /content/drive/MyDrive/Projet_mellifere/Solidago_canadensis/Trop proche/250161042.jpeg   \n",
              "999  /content/drive/MyDrive/Projet_mellifere/Solidago_canadensis/Trop proche/236071121.jpeg   \n",
              "\n",
              "     Etiquette  \n",
              "0            0  \n",
              "1            0  \n",
              "2            0  \n",
              "3            0  \n",
              "4            0  \n",
              "..         ...  \n",
              "995          3  \n",
              "996          3  \n",
              "997          3  \n",
              "998          3  \n",
              "999          3  \n",
              "\n",
              "[1000 rows x 2 columns]"
            ],
            "text/html": [
              "\n",
              "  <div id=\"df-0470c977-7df1-47a1-98c3-cd60144d85dc\">\n",
              "    <div class=\"colab-df-container\">\n",
              "      <div>\n",
              "<style scoped>\n",
              "    .dataframe tbody tr th:only-of-type {\n",
              "        vertical-align: middle;\n",
              "    }\n",
              "\n",
              "    .dataframe tbody tr th {\n",
              "        vertical-align: top;\n",
              "    }\n",
              "\n",
              "    .dataframe thead th {\n",
              "        text-align: right;\n",
              "    }\n",
              "</style>\n",
              "<table border=\"1\" class=\"dataframe\">\n",
              "  <thead>\n",
              "    <tr style=\"text-align: right;\">\n",
              "      <th></th>\n",
              "      <th>Nom</th>\n",
              "      <th>Etiquette</th>\n",
              "    </tr>\n",
              "  </thead>\n",
              "  <tbody>\n",
              "    <tr>\n",
              "      <th>0</th>\n",
              "      <td>/content/drive/MyDrive/Projet_mellifere/Solidago_canadensis/Fleuri/468542.jpeg</td>\n",
              "      <td>0</td>\n",
              "    </tr>\n",
              "    <tr>\n",
              "      <th>1</th>\n",
              "      <td>/content/drive/MyDrive/Projet_mellifere/Solidago_canadensis/Fleuri/177001.jpeg</td>\n",
              "      <td>0</td>\n",
              "    </tr>\n",
              "    <tr>\n",
              "      <th>2</th>\n",
              "      <td>/content/drive/MyDrive/Projet_mellifere/Solidago_canadensis/Fleuri/177002.jpeg</td>\n",
              "      <td>0</td>\n",
              "    </tr>\n",
              "    <tr>\n",
              "      <th>3</th>\n",
              "      <td>/content/drive/MyDrive/Projet_mellifere/Solidago_canadensis/Fleuri/176611.jpeg</td>\n",
              "      <td>0</td>\n",
              "    </tr>\n",
              "    <tr>\n",
              "      <th>4</th>\n",
              "      <td>/content/drive/MyDrive/Projet_mellifere/Solidago_canadensis/Fleuri/266540181.jpeg</td>\n",
              "      <td>0</td>\n",
              "    </tr>\n",
              "    <tr>\n",
              "      <th>...</th>\n",
              "      <td>...</td>\n",
              "      <td>...</td>\n",
              "    </tr>\n",
              "    <tr>\n",
              "      <th>995</th>\n",
              "      <td>/content/drive/MyDrive/Projet_mellifere/Solidago_canadensis/Trop proche/250161201.jpeg</td>\n",
              "      <td>3</td>\n",
              "    </tr>\n",
              "    <tr>\n",
              "      <th>996</th>\n",
              "      <td>/content/drive/MyDrive/Projet_mellifere/Solidago_canadensis/Trop proche/250161063.jpeg</td>\n",
              "      <td>3</td>\n",
              "    </tr>\n",
              "    <tr>\n",
              "      <th>997</th>\n",
              "      <td>/content/drive/MyDrive/Projet_mellifere/Solidago_canadensis/Trop proche/250161168.jpeg</td>\n",
              "      <td>3</td>\n",
              "    </tr>\n",
              "    <tr>\n",
              "      <th>998</th>\n",
              "      <td>/content/drive/MyDrive/Projet_mellifere/Solidago_canadensis/Trop proche/250161042.jpeg</td>\n",
              "      <td>3</td>\n",
              "    </tr>\n",
              "    <tr>\n",
              "      <th>999</th>\n",
              "      <td>/content/drive/MyDrive/Projet_mellifere/Solidago_canadensis/Trop proche/236071121.jpeg</td>\n",
              "      <td>3</td>\n",
              "    </tr>\n",
              "  </tbody>\n",
              "</table>\n",
              "<p>1000 rows × 2 columns</p>\n",
              "</div>\n",
              "      <button class=\"colab-df-convert\" onclick=\"convertToInteractive('df-0470c977-7df1-47a1-98c3-cd60144d85dc')\"\n",
              "              title=\"Convert this dataframe to an interactive table.\"\n",
              "              style=\"display:none;\">\n",
              "        \n",
              "  <svg xmlns=\"http://www.w3.org/2000/svg\" height=\"24px\"viewBox=\"0 0 24 24\"\n",
              "       width=\"24px\">\n",
              "    <path d=\"M0 0h24v24H0V0z\" fill=\"none\"/>\n",
              "    <path d=\"M18.56 5.44l.94 2.06.94-2.06 2.06-.94-2.06-.94-.94-2.06-.94 2.06-2.06.94zm-11 1L8.5 8.5l.94-2.06 2.06-.94-2.06-.94L8.5 2.5l-.94 2.06-2.06.94zm10 10l.94 2.06.94-2.06 2.06-.94-2.06-.94-.94-2.06-.94 2.06-2.06.94z\"/><path d=\"M17.41 7.96l-1.37-1.37c-.4-.4-.92-.59-1.43-.59-.52 0-1.04.2-1.43.59L10.3 9.45l-7.72 7.72c-.78.78-.78 2.05 0 2.83L4 21.41c.39.39.9.59 1.41.59.51 0 1.02-.2 1.41-.59l7.78-7.78 2.81-2.81c.8-.78.8-2.07 0-2.86zM5.41 20L4 18.59l7.72-7.72 1.47 1.35L5.41 20z\"/>\n",
              "  </svg>\n",
              "      </button>\n",
              "      \n",
              "  <style>\n",
              "    .colab-df-container {\n",
              "      display:flex;\n",
              "      flex-wrap:wrap;\n",
              "      gap: 12px;\n",
              "    }\n",
              "\n",
              "    .colab-df-convert {\n",
              "      background-color: #E8F0FE;\n",
              "      border: none;\n",
              "      border-radius: 50%;\n",
              "      cursor: pointer;\n",
              "      display: none;\n",
              "      fill: #1967D2;\n",
              "      height: 32px;\n",
              "      padding: 0 0 0 0;\n",
              "      width: 32px;\n",
              "    }\n",
              "\n",
              "    .colab-df-convert:hover {\n",
              "      background-color: #E2EBFA;\n",
              "      box-shadow: 0px 1px 2px rgba(60, 64, 67, 0.3), 0px 1px 3px 1px rgba(60, 64, 67, 0.15);\n",
              "      fill: #174EA6;\n",
              "    }\n",
              "\n",
              "    [theme=dark] .colab-df-convert {\n",
              "      background-color: #3B4455;\n",
              "      fill: #D2E3FC;\n",
              "    }\n",
              "\n",
              "    [theme=dark] .colab-df-convert:hover {\n",
              "      background-color: #434B5C;\n",
              "      box-shadow: 0px 1px 3px 1px rgba(0, 0, 0, 0.15);\n",
              "      filter: drop-shadow(0px 1px 2px rgba(0, 0, 0, 0.3));\n",
              "      fill: #FFFFFF;\n",
              "    }\n",
              "  </style>\n",
              "\n",
              "      <script>\n",
              "        const buttonEl =\n",
              "          document.querySelector('#df-0470c977-7df1-47a1-98c3-cd60144d85dc button.colab-df-convert');\n",
              "        buttonEl.style.display =\n",
              "          google.colab.kernel.accessAllowed ? 'block' : 'none';\n",
              "\n",
              "        async function convertToInteractive(key) {\n",
              "          const element = document.querySelector('#df-0470c977-7df1-47a1-98c3-cd60144d85dc');\n",
              "          const dataTable =\n",
              "            await google.colab.kernel.invokeFunction('convertToInteractive',\n",
              "                                                     [key], {});\n",
              "          if (!dataTable) return;\n",
              "\n",
              "          const docLinkHtml = 'Like what you see? Visit the ' +\n",
              "            '<a target=\"_blank\" href=https://colab.research.google.com/notebooks/data_table.ipynb>data table notebook</a>'\n",
              "            + ' to learn more about interactive tables.';\n",
              "          element.innerHTML = '';\n",
              "          dataTable['output_type'] = 'display_data';\n",
              "          await google.colab.output.renderOutput(dataTable, element);\n",
              "          const docLink = document.createElement('div');\n",
              "          docLink.innerHTML = docLinkHtml;\n",
              "          element.appendChild(docLink);\n",
              "        }\n",
              "      </script>\n",
              "    </div>\n",
              "  </div>\n",
              "  "
            ]
          },
          "metadata": {},
          "execution_count": 8
        }
      ]
    },
    {
      "cell_type": "code",
      "source": [
        "df.to_csv(\n",
        "    path_or_buf=f\"{Chemin_donnees}/etiquettes.csv\",\n",
        "    index=False\n",
        ")"
      ],
      "metadata": {
        "id": "4gnBBzBXystt"
      },
      "execution_count": null,
      "outputs": []
    },
    {
      "cell_type": "markdown",
      "source": [
        "Telechargement des donnees"
      ],
      "metadata": {
        "id": "u0Eag81U0IED"
      }
    },
    {
      "cell_type": "code",
      "source": [
        "dls = ImageDataLoaders.from_folder(\n",
        "      path=Chemin_donnees,\n",
        "      item_tfms=Resize(224),\n",
        "      bs=16,\n",
        "      batch_tfms=[Normalize.from_stats(*imagenet_stats), RandTransform()],\n",
        "      valid_pct=0.2\n",
        ")"
      ],
      "metadata": {
        "id": "YwUCPi8c0KgT"
      },
      "execution_count": null,
      "outputs": []
    },
    {
      "cell_type": "markdown",
      "source": [
        "Creation du modele"
      ],
      "metadata": {
        "id": "6-K9e_w81CbH"
      }
    },
    {
      "cell_type": "code",
      "source": [
        "Modele = vision_learner(\n",
        "    dls=dls,\n",
        "    arch=models.resnet18,\n",
        "    metrics=[accuracy, error_rate]\n",
        ")"
      ],
      "metadata": {
        "id": "TQjXxNSI1EqN"
      },
      "execution_count": null,
      "outputs": []
    },
    {
      "cell_type": "code",
      "source": [
        "Nb_epochs = 1\n",
        "Performance = []\n",
        "\n",
        "for epoch in range(Nb_epochs):\n",
        "    Modele.fit_one_cycle(1)\n",
        "    Modele.save(f\"CNN_{Espece_visee}_epoch{epoch}.pth\")\n",
        "    Perfo = Modele.recorder.final_record\n",
        "    Performance.append(Perfo)"
      ],
      "metadata": {
        "colab": {
          "base_uri": "https://localhost:8080/",
          "height": 81
        },
        "id": "I2PDzCoh1kfT",
        "outputId": "393e571b-e7b3-41cf-c539-fbc3fa591cc0"
      },
      "execution_count": null,
      "outputs": [
        {
          "output_type": "display_data",
          "data": {
            "text/plain": [
              "<IPython.core.display.HTML object>"
            ],
            "text/html": [
              "\n",
              "<style>\n",
              "    /* Turns off some styling */\n",
              "    progress {\n",
              "        /* gets rid of default border in Firefox and Opera. */\n",
              "        border: none;\n",
              "        /* Needs to be in here for Safari polyfill so background images work as expected. */\n",
              "        background-size: auto;\n",
              "    }\n",
              "    progress:not([value]), progress:not([value])::-webkit-progress-bar {\n",
              "        background: repeating-linear-gradient(45deg, #7e7e7e, #7e7e7e 10px, #5c5c5c 10px, #5c5c5c 20px);\n",
              "    }\n",
              "    .progress-bar-interrupted, .progress-bar-interrupted::-webkit-progress-bar {\n",
              "        background: #F44336;\n",
              "    }\n",
              "</style>\n"
            ]
          },
          "metadata": {}
        },
        {
          "output_type": "display_data",
          "data": {
            "text/plain": [
              "<IPython.core.display.HTML object>"
            ],
            "text/html": [
              "<table border=\"1\" class=\"dataframe\">\n",
              "  <thead>\n",
              "    <tr style=\"text-align: left;\">\n",
              "      <th>epoch</th>\n",
              "      <th>train_loss</th>\n",
              "      <th>valid_loss</th>\n",
              "      <th>accuracy</th>\n",
              "      <th>error_rate</th>\n",
              "      <th>time</th>\n",
              "    </tr>\n",
              "  </thead>\n",
              "  <tbody>\n",
              "    <tr>\n",
              "      <td>0</td>\n",
              "      <td>1.198279</td>\n",
              "      <td>1.065572</td>\n",
              "      <td>0.770000</td>\n",
              "      <td>0.230000</td>\n",
              "      <td>03:56</td>\n",
              "    </tr>\n",
              "  </tbody>\n",
              "</table>"
            ]
          },
          "metadata": {}
        }
      ]
    }
  ]
}