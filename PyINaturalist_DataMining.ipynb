{
  "nbformat": 4,
  "nbformat_minor": 0,
  "metadata": {
    "colab": {
      "provenance": [],
      "include_colab_link": true
    },
    "kernelspec": {
      "name": "python3",
      "display_name": "Python 3"
    },
    "language_info": {
      "name": "python"
    }
  },
  "cells": [
    {
      "cell_type": "markdown",
      "metadata": {
        "id": "view-in-github",
        "colab_type": "text"
      },
      "source": [
        "<a href=\"https://colab.research.google.com/github/Oleonn/DataMining/blob/Data-mining-Python/PyINaturalist_DataMining.ipynb\" target=\"_parent\"><img src=\"https://colab.research.google.com/assets/colab-badge.svg\" alt=\"Open In Colab\"/></a>"
      ]
    },
    {
      "cell_type": "markdown",
      "source": [
        "**Importations et installations**\n",
        "Executer les deux codes suivants"
      ],
      "metadata": {
        "id": "UXxUDZbZ1k8V"
      }
    },
    {
      "cell_type": "code",
      "execution_count": 1,
      "metadata": {
        "id": "4t4NeCVoML7s",
        "outputId": "ba46a959-762d-4cb5-988b-00f0b7034e0e",
        "colab": {
          "base_uri": "https://localhost:8080/"
        }
      },
      "outputs": [
        {
          "output_type": "stream",
          "name": "stdout",
          "text": [
            "Looking in indexes: https://pypi.org/simple, https://us-python.pkg.dev/colab-wheels/public/simple/\n",
            "Collecting pyinaturalist\n",
            "  Downloading pyinaturalist-0.18.0-py3-none-any.whl (130 kB)\n",
            "\u001b[2K     \u001b[90m━━━━━━━━━━━━━━━━━━━━━━━━━━━━━━━━━━━━━━━\u001b[0m \u001b[32m131.0/131.0 kB\u001b[0m \u001b[31m7.8 MB/s\u001b[0m eta \u001b[36m0:00:00\u001b[0m\n",
            "\u001b[?25hRequirement already satisfied: attrs>=21.2 in /usr/local/lib/python3.10/dist-packages (from pyinaturalist) (23.1.0)\n",
            "Collecting keyring>=22.3 (from pyinaturalist)\n",
            "  Downloading keyring-23.13.1-py3-none-any.whl (37 kB)\n",
            "Requirement already satisfied: platformdirs>=2.5 in /usr/local/lib/python3.10/dist-packages (from pyinaturalist) (3.3.0)\n",
            "Requirement already satisfied: python-dateutil>=2.0 in /usr/local/lib/python3.10/dist-packages (from pyinaturalist) (2.8.2)\n",
            "Collecting python-forge>=18.6 (from pyinaturalist)\n",
            "  Downloading python_forge-18.6.0-py35-none-any.whl (31 kB)\n",
            "Requirement already satisfied: requests>=2.22 in /usr/local/lib/python3.10/dist-packages (from pyinaturalist) (2.27.1)\n",
            "Collecting requests-cache>=1.0.0b0 (from pyinaturalist)\n",
            "  Downloading requests_cache-1.0.1-py3-none-any.whl (58 kB)\n",
            "\u001b[2K     \u001b[90m━━━━━━━━━━━━━━━━━━━━━━━━━━━━━━━━━━━━━━━━\u001b[0m \u001b[32m58.7/58.7 kB\u001b[0m \u001b[31m7.0 MB/s\u001b[0m eta \u001b[36m0:00:00\u001b[0m\n",
            "\u001b[?25hCollecting requests-ratelimiter>=0.3.2 (from pyinaturalist)\n",
            "  Downloading requests_ratelimiter-0.4.0-py3-none-any.whl (8.6 kB)\n",
            "Requirement already satisfied: rich>=10.9 in /usr/local/lib/python3.10/dist-packages (from pyinaturalist) (13.3.4)\n",
            "Collecting jaraco.classes (from keyring>=22.3->pyinaturalist)\n",
            "  Downloading jaraco.classes-3.2.3-py3-none-any.whl (6.0 kB)\n",
            "Collecting importlib-metadata>=4.11.4 (from keyring>=22.3->pyinaturalist)\n",
            "  Downloading importlib_metadata-6.6.0-py3-none-any.whl (22 kB)\n",
            "Collecting SecretStorage>=3.2 (from keyring>=22.3->pyinaturalist)\n",
            "  Downloading SecretStorage-3.3.3-py3-none-any.whl (15 kB)\n",
            "Collecting jeepney>=0.4.2 (from keyring>=22.3->pyinaturalist)\n",
            "  Downloading jeepney-0.8.0-py3-none-any.whl (48 kB)\n",
            "\u001b[2K     \u001b[90m━━━━━━━━━━━━━━━━━━━━━━━━━━━━━━━━━━━━━━━━\u001b[0m \u001b[32m48.4/48.4 kB\u001b[0m \u001b[31m3.9 MB/s\u001b[0m eta \u001b[36m0:00:00\u001b[0m\n",
            "\u001b[?25hRequirement already satisfied: six>=1.5 in /usr/local/lib/python3.10/dist-packages (from python-dateutil>=2.0->pyinaturalist) (1.16.0)\n",
            "Requirement already satisfied: urllib3<1.27,>=1.21.1 in /usr/local/lib/python3.10/dist-packages (from requests>=2.22->pyinaturalist) (1.26.15)\n",
            "Requirement already satisfied: certifi>=2017.4.17 in /usr/local/lib/python3.10/dist-packages (from requests>=2.22->pyinaturalist) (2022.12.7)\n",
            "Requirement already satisfied: charset-normalizer~=2.0.0 in /usr/local/lib/python3.10/dist-packages (from requests>=2.22->pyinaturalist) (2.0.12)\n",
            "Requirement already satisfied: idna<4,>=2.5 in /usr/local/lib/python3.10/dist-packages (from requests>=2.22->pyinaturalist) (3.4)\n",
            "Collecting cattrs>=22.2 (from requests-cache>=1.0.0b0->pyinaturalist)\n",
            "  Downloading cattrs-23.1.2-py3-none-any.whl (50 kB)\n",
            "\u001b[2K     \u001b[90m━━━━━━━━━━━━━━━━━━━━━━━━━━━━━━━━━━━━━━━━\u001b[0m \u001b[32m50.8/50.8 kB\u001b[0m \u001b[31m5.5 MB/s\u001b[0m eta \u001b[36m0:00:00\u001b[0m\n",
            "\u001b[?25hCollecting url-normalize>=1.4 (from requests-cache>=1.0.0b0->pyinaturalist)\n",
            "  Downloading url_normalize-1.4.3-py2.py3-none-any.whl (6.8 kB)\n",
            "Collecting pyrate-limiter>=2.8 (from requests-ratelimiter>=0.3.2->pyinaturalist)\n",
            "  Downloading pyrate_limiter-2.10.0-py3-none-any.whl (16 kB)\n",
            "Requirement already satisfied: markdown-it-py<3.0.0,>=2.2.0 in /usr/local/lib/python3.10/dist-packages (from rich>=10.9->pyinaturalist) (2.2.0)\n",
            "Requirement already satisfied: pygments<3.0.0,>=2.13.0 in /usr/local/lib/python3.10/dist-packages (from rich>=10.9->pyinaturalist) (2.14.0)\n",
            "Requirement already satisfied: exceptiongroup in /usr/local/lib/python3.10/dist-packages (from cattrs>=22.2->requests-cache>=1.0.0b0->pyinaturalist) (1.1.1)\n",
            "Requirement already satisfied: typing_extensions>=4.1.0 in /usr/local/lib/python3.10/dist-packages (from cattrs>=22.2->requests-cache>=1.0.0b0->pyinaturalist) (4.5.0)\n",
            "Requirement already satisfied: zipp>=0.5 in /usr/local/lib/python3.10/dist-packages (from importlib-metadata>=4.11.4->keyring>=22.3->pyinaturalist) (3.15.0)\n",
            "Requirement already satisfied: mdurl~=0.1 in /usr/local/lib/python3.10/dist-packages (from markdown-it-py<3.0.0,>=2.2.0->rich>=10.9->pyinaturalist) (0.1.2)\n",
            "Requirement already satisfied: cryptography>=2.0 in /usr/local/lib/python3.10/dist-packages (from SecretStorage>=3.2->keyring>=22.3->pyinaturalist) (40.0.2)\n",
            "Requirement already satisfied: more-itertools in /usr/local/lib/python3.10/dist-packages (from jaraco.classes->keyring>=22.3->pyinaturalist) (9.1.0)\n",
            "Requirement already satisfied: cffi>=1.12 in /usr/local/lib/python3.10/dist-packages (from cryptography>=2.0->SecretStorage>=3.2->keyring>=22.3->pyinaturalist) (1.15.1)\n",
            "Requirement already satisfied: pycparser in /usr/local/lib/python3.10/dist-packages (from cffi>=1.12->cryptography>=2.0->SecretStorage>=3.2->keyring>=22.3->pyinaturalist) (2.21)\n",
            "Installing collected packages: python-forge, url-normalize, pyrate-limiter, jeepney, jaraco.classes, importlib-metadata, cattrs, requests-ratelimiter, requests-cache, SecretStorage, keyring, pyinaturalist\n",
            "Successfully installed SecretStorage-3.3.3 cattrs-23.1.2 importlib-metadata-6.6.0 jaraco.classes-3.2.3 jeepney-0.8.0 keyring-23.13.1 pyinaturalist-0.18.0 pyrate-limiter-2.10.0 python-forge-18.6.0 requests-cache-1.0.1 requests-ratelimiter-0.4.0 url-normalize-1.4.3\n"
          ]
        }
      ],
      "source": [
        "!pip install pyinaturalist"
      ]
    },
    {
      "cell_type": "code",
      "source": [
        "from pyinaturalist.v1.observations import get_observation_species_counts\n",
        "import json\n",
        "from pyinaturalist import (\n",
        "    Observation,\n",
        "    pprint,\n",
        "    get_observations,\n",
        "    get_observation_species_counts\n",
        ")\n",
        "\n",
        "import pandas as pd\n",
        "pd.options.display.max_colwidth = 100  #Sert a augmenter la qte de caracteres affiches pour chaque string\n",
        "\n",
        "import csv\n",
        "\n",
        "import requests\n",
        "\n",
        "import os"
      ],
      "metadata": {
        "id": "FLdC73o_4p65"
      },
      "execution_count": 2,
      "outputs": []
    },
    {
      "cell_type": "markdown",
      "source": [
        "Pour importer une serie de photos de INaturalist, commencer par exporter les Occurences GBIF (en preselectionnant \"INaturalist (research)\" et \"avec photo\" dans les criteres de recherche) en format Archive Darwin Core. Donne un fichier Zip, qu'il faut ouvrir pour extraire \"multimedia.txt\". Ensuite, executer le code suivant pour lier le Drive de destination."
      ],
      "metadata": {
        "id": "RVK66HvuFc4j"
      }
    },
    {
      "cell_type": "code",
      "source": [
        "from google.colab import drive\n",
        "drive.mount('/content/drive', force_remount=True)"
      ],
      "metadata": {
        "colab": {
          "base_uri": "https://localhost:8080/"
        },
        "id": "HfOaGYGycJb0",
        "outputId": "ad0bae47-0f57-4466-9380-bf17d3771368"
      },
      "execution_count": 3,
      "outputs": [
        {
          "output_type": "stream",
          "name": "stdout",
          "text": [
            "Mounted at /content/drive\n"
          ]
        }
      ]
    },
    {
      "cell_type": "markdown",
      "source": [
        "Dans le menu \"fichiers\" a gauche, trouver le dossier destination et en copier le chemin d'acces en utilisant le sous-menu a droite du nom du fichier. \n",
        "Coller le chemin d'acces apres le \"=\" de \"Coller_ici\", et le mettre entre guillements. \n",
        "Ecrire ensuite le format d'image souhaite entre guillemets (du plus petit au plus grand : \"thumb\", \"small\", \"medium\", \"large\", \"original\"). \n",
        "Executer les codes restants."
      ],
      "metadata": {
        "id": "gMbPYEZlG7wy"
      }
    },
    {
      "cell_type": "code",
      "source": [
        "Coller_ici = \"/content/drive/MyDrive/Projet_mellifere/Solidago_canadensis\" #Exemple : \"/content/drive/MyDrive/Projet_mellifere/Solidago_canadensis\"\n",
        "Format_souhaite = \"small\" #Exemple : \"small\"\n",
        "Nb_images_souhaite = \"toutes\" #SOIT un nombre, SOIT \"toutes\" entre guillemets"
      ],
      "metadata": {
        "id": "BO94swOIFbSg"
      },
      "execution_count": 5,
      "outputs": []
    },
    {
      "cell_type": "code",
      "source": [
        "Path = f\"{Coller_ici}/\""
      ],
      "metadata": {
        "id": "Xm7j3NsjKCRe"
      },
      "execution_count": 6,
      "outputs": []
    },
    {
      "cell_type": "code",
      "source": [
        "Solcan = pd.read_csv(Path+\"multimedia.txt\", dtype=str, sep=\"\\t\")\n",
        "Solcan = Solcan[\"identifier\"]\n",
        "if Nb_images_souhaite != \"toutes\":\n",
        "  Solcan = Solcan[0:Nb_images_souhaite]\n",
        "for Line in range(len(Solcan)):\n",
        "  Solcan[Line] = Solcan[Line].replace(\"original\", Format_souhaite) #Remplace le format original par le format souhaite (thumb, small, medium ou large)"
      ],
      "metadata": {
        "id": "Vr2tOuQv57GN"
      },
      "execution_count": 7,
      "outputs": []
    },
    {
      "cell_type": "code",
      "source": [
        "#Solcan = Solcan[7501:] #Pendant retraite SBL, j'ai telecharge les images [0:1000]. Le 2 juin 2023, j'ai telecharge les images [1000:7501]."
      ],
      "metadata": {
        "id": "3ThriF52LIZz"
      },
      "execution_count": 8,
      "outputs": []
    },
    {
      "cell_type": "markdown",
      "source": [
        "Sauvegarde en .jpg dans le Drive en utilisant l'ID de photo d'INaturalist. Attendre le message de confirmation comme quoi les telechargements ont ete accomplis."
      ],
      "metadata": {
        "id": "Qzdzx2bIQiTw"
      }
    },
    {
      "cell_type": "code",
      "source": [
        "broken_images = []\n",
        "count = 1\n",
        "for img in Solcan:\n",
        "    # We can split the file based on '/' and extract the last split within the Python list below:\n",
        "    file_name = img.split('/')[-2]\n",
        "    file_name = f\"{Path}{file_name}.jpeg\"  # Update file extension to .jpeg\n",
        "    print(f\"Fichier no {count} situe ici : {file_name}\")\n",
        "    count = count + 1\n",
        "    # Now let's send a request to the image URL:\n",
        "    r = requests.get(img, stream=True)\n",
        "    # We can check that the status code is 200 before doing anything else:\n",
        "    if r.status_code == 200:\n",
        "        # This command below will allow us to write the data to a file as binary:\n",
        "        with open(file_name, 'wb') as f:\n",
        "            for chunk in r.iter_content(1024):\n",
        "                f.write(chunk)\n",
        "    else:\n",
        "        # We will write all of the images back to the broken_images list:\n",
        "        broken_images.append(img)\n",
        "      \n",
        "print(\"Mission accomplie. Bon travail, 007\")\n"
      ],
      "metadata": {
        "id": "4KUgK9At_2kx"
      },
      "execution_count": null,
      "outputs": []
    }
  ]
}