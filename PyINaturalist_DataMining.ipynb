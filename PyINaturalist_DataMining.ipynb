{
  "nbformat": 4,
  "nbformat_minor": 0,
  "metadata": {
    "colab": {
      "provenance": [],
      "authorship_tag": "ABX9TyNktuSYNvUoLA3jbAsx7P19",
      "include_colab_link": true
    },
    "kernelspec": {
      "name": "python3",
      "display_name": "Python 3"
    },
    "language_info": {
      "name": "python"
    }
  },
  "cells": [
    {
      "cell_type": "markdown",
      "metadata": {
        "id": "view-in-github",
        "colab_type": "text"
      },
      "source": [
        "<a href=\"https://colab.research.google.com/github/Oleonn/DataMining/blob/Data-mining-Python/PyINaturalist_DataMining.ipynb\" target=\"_parent\"><img src=\"https://colab.research.google.com/assets/colab-badge.svg\" alt=\"Open In Colab\"/></a>"
      ]
    },
    {
      "cell_type": "code",
      "execution_count": null,
      "metadata": {
        "id": "4t4NeCVoML7s"
      },
      "outputs": [],
      "source": [
        "!pip install pyinaturalist"
      ]
    },
    {
      "cell_type": "markdown",
      "source": [
        "**Importations**"
      ],
      "metadata": {
        "id": "UXxUDZbZ1k8V"
      }
    },
    {
      "cell_type": "code",
      "source": [
        "from pyinaturalist.v1.observations import get_observation_species_counts\n",
        "import json\n",
        "from pyinaturalist import (\n",
        "    Observation,\n",
        "    pprint,\n",
        "    get_observations,\n",
        "    get_observation_species_counts\n",
        ")\n",
        "\n",
        "import pandas as pd\n",
        "\n",
        "import csv\n",
        "\n",
        "import requests\n",
        "\n",
        "import os"
      ],
      "metadata": {
        "id": "FLdC73o_4p65"
      },
      "execution_count": 8,
      "outputs": []
    },
    {
      "cell_type": "markdown",
      "source": [
        "AVANT DE CONTINUER, besoin de fichier \"multimedia.txt\", exporte de GBIF, dans le repository"
      ],
      "metadata": {
        "id": "GuTDscfqOlYd"
      }
    },
    {
      "cell_type": "code",
      "source": [
        "Solcan = pd.read_csv(\"multimedia.txt\", sep=\"\\t\")\n",
        "SolcanTEST = Solcan[\"identifier\"][0:3]\n"
      ],
      "metadata": {
        "id": "Vr2tOuQv57GN"
      },
      "execution_count": null,
      "outputs": []
    },
    {
      "cell_type": "code",
      "source": [
        "broken_images = []\n",
        "\n",
        "for img in SolcanTEST:\n",
        "    # We can split the file based on '/' and extract the last split within the Python list below:\n",
        "    file_name = img.split('/')[-2]\n",
        "    file_name = f\"{file_name}.jpeg\"  # Update file extension to .jpeg\n",
        "    print(f\"This is the file name: {file_name}\")\n",
        "    # Now let's send a request to the image URL:\n",
        "    r = requests.get(img, stream=True)\n",
        "    # We can check that the status code is 200 before doing anything else:\n",
        "    if r.status_code == 200:\n",
        "        # This command below will allow us to write the data to a file as binary:\n",
        "        with open(file_name, 'wb') as f:\n",
        "            for chunk in r.iter_content(1024):\n",
        "                f.write(chunk)\n",
        "    else:\n",
        "        # We will write all of the images back to the broken_images list:\n",
        "        broken_images.append(img)\n",
        "print(\"Mission accomplished. Good job 007\")\n"
      ],
      "metadata": {
        "colab": {
          "base_uri": "https://localhost:8080/"
        },
        "id": "4KUgK9At_2kx",
        "outputId": "7d537e00-1685-49c3-c9a8-a3ca28f397bc"
      },
      "execution_count": null,
      "outputs": [
        {
          "output_type": "stream",
          "name": "stdout",
          "text": [
            "This is the file name: 468542.jpeg\n",
            "This is the file name: 468541.jpeg\n",
            "This is the file name: 177001.jpeg\n",
            "Mission accomplished. Good job 007\n"
          ]
        }
      ]
    },
    {
      "cell_type": "code",
      "source": [
        "for img in SolcanTEST:\n",
        "    # We can split the file based upon / and extract the last split within the python list below:\n",
        "    file_name = img.split('/')[-2]\n",
        "    print(f\"This is the file name: {file_name}.jpg\")\n",
        "    # Now let's send a request to the image URL:\n",
        "    r = requests.get(img, stream=True)\n",
        "    # We can check that the status code is 200 before doing anything else:\n",
        "    if r.status_code == 200:\n",
        "        # This command below will allow us to write the data to a file as binary:\n",
        "        with open(file_name, 'wb') as f:\n",
        "            for chunk in r:\n",
        "                f.write(chunk)\n",
        "    else:\n",
        "        # We will write all of the images back to the broken_images list:\n",
        "        broken_images.append(img)\n",
        "print(\"Mission accomplished. Good job 007\")"
      ],
      "metadata": {
        "id": "BcKzEREJeQvt"
      },
      "execution_count": null,
      "outputs": []
    },
    {
      "cell_type": "markdown",
      "source": [
        "**Classification des resultats en formats utilisables** (desuet)"
      ],
      "metadata": {
        "id": "PRLt9liv6K1O"
      }
    },
    {
      "cell_type": "code",
      "source": [
        "Solcan_reponse = get_observations(photos=True, quality=\"research\", taxon_id=\"67808\")\n",
        "Solcan_datafr = pd.DataFrame.from_dict(Solcan_reponse[\"results\"])\n",
        "Solcan_photos = Solcan_datafr[\"observation_photos\"]\n",
        "print(Solcan_reponse)"
      ],
      "metadata": {
        "id": "JDYXlKXtvhlL"
      },
      "execution_count": null,
      "outputs": []
    }
  ]
}