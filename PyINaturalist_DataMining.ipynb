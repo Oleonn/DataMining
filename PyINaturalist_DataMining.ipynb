{
  "nbformat": 4,
  "nbformat_minor": 0,
  "metadata": {
    "colab": {
      "provenance": [],
      "include_colab_link": true
    },
    "kernelspec": {
      "name": "python3",
      "display_name": "Python 3"
    },
    "language_info": {
      "name": "python"
    }
  },
  "cells": [
    {
      "cell_type": "markdown",
      "metadata": {
        "id": "view-in-github",
        "colab_type": "text"
      },
      "source": [
        "<a href=\"https://colab.research.google.com/github/Oleonn/DataMining/blob/Data-mining-Python/PyINaturalist_DataMining.ipynb\" target=\"_parent\"><img src=\"https://colab.research.google.com/assets/colab-badge.svg\" alt=\"Open In Colab\"/></a>"
      ]
    },
    {
      "cell_type": "markdown",
      "source": [
        "**Importations et installations**\n",
        "Executer les deux codes suivants"
      ],
      "metadata": {
        "id": "UXxUDZbZ1k8V"
      }
    },
    {
      "cell_type": "code",
      "execution_count": null,
      "metadata": {
        "id": "4t4NeCVoML7s"
      },
      "outputs": [],
      "source": [
        "!pip install pyinaturalist"
      ]
    },
    {
      "cell_type": "code",
      "source": [
        "from pyinaturalist.v1.observations import get_observation_species_counts\n",
        "import json\n",
        "from pyinaturalist import (\n",
        "    Observation,\n",
        "    pprint,\n",
        "    get_observations,\n",
        "    get_observation_species_counts\n",
        ")\n",
        "\n",
        "import pandas as pd\n",
        "pd.options.display.max_colwidth = 100  #Sert a augmenter la qte de caracteres affiches pour chaque string\n",
        "\n",
        "import csv\n",
        "\n",
        "import requests\n",
        "\n",
        "import os"
      ],
      "metadata": {
        "id": "FLdC73o_4p65"
      },
      "execution_count": null,
      "outputs": []
    },
    {
      "cell_type": "markdown",
      "source": [
        "Pour importer une serie de photos de INaturalist, commencer par exporter les Occurences GBIF (en preselectionnant \"INaturalist (research)\" et \"avec photo\" dans les criteres de recherche) en format Archive Darwin Core. Donne un fichier Zip, qu'il faut ouvrir pour extraire \"multimedia.txt\". Ensuite, executer le code suivant pour lier le Drive de destination."
      ],
      "metadata": {
        "id": "RVK66HvuFc4j"
      }
    },
    {
      "cell_type": "code",
      "source": [
        "from google.colab import drive\n",
        "drive.mount('/content/drive', force_remount=True)"
      ],
      "metadata": {
        "colab": {
          "base_uri": "https://localhost:8080/"
        },
        "id": "HfOaGYGycJb0",
        "outputId": "6184577e-d0dc-4256-dd3f-9ab88b4ece7f"
      },
      "execution_count": null,
      "outputs": [
        {
          "output_type": "stream",
          "name": "stdout",
          "text": [
            "Mounted at /content/drive\n"
          ]
        }
      ]
    },
    {
      "cell_type": "markdown",
      "source": [
        "Dans le menu \"fichiers\" a gauche, trouver le dossier destination et en copier le chemin d'acces en utilisant le sous-menu a droite du nom du fichier. \n",
        "Coller le chemin d'acces apres le \"=\" de \"Coller_ici\", et le mettre entre guillements. \n",
        "Ecrire ensuite le format d'image souhaite entre guillemets (du plus petit au plus grand : \"thumb\", \"small\", \"medium\", \"large\", \"original\"). \n",
        "Executer les codes restants."
      ],
      "metadata": {
        "id": "gMbPYEZlG7wy"
      }
    },
    {
      "cell_type": "code",
      "source": [
        "Coller_ici = \"/content/drive/MyDrive/Projet_mellifere/Solidago_canadensis\" #Exemple : \"/content/drive/MyDrive/Projet_mellifere/Solidago_canadensis\"\n",
        "Format_souhaite = \"small\" #Exemple : \"small\"\n",
        "Nb_images_souhaite = 1000 #SOIT un nombre, SOIT \"toutes\" entre guillemets"
      ],
      "metadata": {
        "id": "BO94swOIFbSg"
      },
      "execution_count": null,
      "outputs": []
    },
    {
      "cell_type": "code",
      "source": [
        "Path = f\"{Coller_ici}/\""
      ],
      "metadata": {
        "id": "Xm7j3NsjKCRe"
      },
      "execution_count": null,
      "outputs": []
    },
    {
      "cell_type": "code",
      "source": [
        "Solcan = pd.read_csv(Path+\"multimedia.txt\", dtype=str, sep=\"\\t\")\n",
        "Solcan = Solcan[\"identifier\"]\n",
        "if Nb_images_souhaite != \"toutes\":\n",
        "  Solcan = Solcan[0:Nb_images_souhaite]\n",
        "for Line in range(len(Solcan)):\n",
        "  Solcan[Line] = Solcan[Line].replace(\"original\", Format_souhaite) #Remplace le format original par le format souhaite (thumb, small, medium ou large)"
      ],
      "metadata": {
        "id": "Vr2tOuQv57GN"
      },
      "execution_count": null,
      "outputs": []
    },
    {
      "cell_type": "markdown",
      "source": [
        "Sauvegarde en .jpg dans le Drive en utilisant l'ID de photo d'INaturalist. Attendre le message de confirmation comme quoi les telechargements ont ete accomplis."
      ],
      "metadata": {
        "id": "Qzdzx2bIQiTw"
      }
    },
    {
      "cell_type": "code",
      "source": [
        "broken_images = []\n",
        "count = 1\n",
        "for img in Solcan:\n",
        "    # We can split the file based on '/' and extract the last split within the Python list below:\n",
        "    file_name = img.split('/')[-2]\n",
        "    file_name = f\"{Path}{file_name}.jpeg\"  # Update file extension to .jpeg\n",
        "    print(f\"Fichier no {count} situe ici : {file_name}\")\n",
        "    count = count + 1\n",
        "    # Now let's send a request to the image URL:\n",
        "    r = requests.get(img, stream=True)\n",
        "    # We can check that the status code is 200 before doing anything else:\n",
        "    if r.status_code == 200:\n",
        "        # This command below will allow us to write the data to a file as binary:\n",
        "        with open(file_name, 'wb') as f:\n",
        "            for chunk in r.iter_content(1024):\n",
        "                f.write(chunk)\n",
        "    else:\n",
        "        # We will write all of the images back to the broken_images list:\n",
        "        broken_images.append(img)\n",
        "      \n",
        "print(\"Mission accomplie. Bon travail, 007\")\n"
      ],
      "metadata": {
        "id": "4KUgK9At_2kx"
      },
      "execution_count": null,
      "outputs": []
    }
  ]
}