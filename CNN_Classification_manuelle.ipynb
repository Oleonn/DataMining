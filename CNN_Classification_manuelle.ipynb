{
  "nbformat": 4,
  "nbformat_minor": 0,
  "metadata": {
    "colab": {
      "provenance": [],
      "authorship_tag": "ABX9TyM9/tFV3QMub9e/C2CGxhVS",
      "include_colab_link": true
    },
    "kernelspec": {
      "name": "python3",
      "display_name": "Python 3"
    },
    "language_info": {
      "name": "python"
    }
  },
  "cells": [
    {
      "cell_type": "markdown",
      "metadata": {
        "id": "view-in-github",
        "colab_type": "text"
      },
      "source": [
        "<a href=\"https://colab.research.google.com/github/Oleonn/DataMining/blob/Classification/CNN_Classification_manuelle.ipynb\" target=\"_parent\"><img src=\"https://colab.research.google.com/assets/colab-badge.svg\" alt=\"Open In Colab\"/></a>"
      ]
    },
    {
      "cell_type": "markdown",
      "source": [
        "Pour lancer la classification manuelle, d'abord inscrire le chemin d'acces du dossier source (la ou sont les images) apres \"Directory\". Ensuite, executer les trois cellules une apres l'autres. Une fois la fonction \"Fenetre_choix()\" lancee, les images defileront une a une jusqu'a ce que le dossier source n'en contienne plus."
      ],
      "metadata": {
        "id": "coXgMoGqYsiT"
      }
    },
    {
      "cell_type": "code",
      "source": [
        "#-----Imports et installations-----\n",
        "#Pour se connecter au drive et acceder a ses fichiers\n",
        "from google.colab import drive\n",
        "drive.mount('/content/drive', force_remount=True)\n",
        "#Pour le transfert de fichiers et la creation de chemins d'acces\n",
        "import os\n",
        "import shutil\n",
        "from IPython.display import display\n",
        "#Pour vider la console (utile pour la boucle)\n",
        "from IPython.display import clear_output\n",
        "#Pour creer le widget qui permet l'affichage d'images et de boutons\n",
        "import ipywidgets as widgets\n",
        "\n",
        "clear_output()"
      ],
      "metadata": {
        "id": "Q298WA4K1BC8"
      },
      "execution_count": null,
      "outputs": []
    },
    {
      "cell_type": "code",
      "source": [
        "#-----Objets a modifier avant le debut du classement-----\n",
        "#Copier ici le chemin d'acces vers le dossier source (ou se trouvent les fichiers a transferer)\n",
        "Directory = \"/content/drive/MyDrive/Projet_mellifere/Solidago_canadensis\"\n",
        "\n",
        "#-----Objets importants-----\n",
        "Fichiers = os.listdir(Directory) # Genere une liste des fichiers/dossiers dans le dossier source\n",
        "index = 0\n",
        "\n",
        "#-----Definition des fonctions\n",
        "def Fenetre_choix():\n",
        "    global index\n",
        "    global File\n",
        "    global Chemin_fichier\n",
        "    if index <= (len(Fichiers)-1):\n",
        "        File = Fichiers[index]\n",
        "        if File.endswith(\".jpeg\"):\n",
        "            Chemin_fichier = os.path.join(Directory, File) #Cree le chemin d'acces pour le fichier File\n",
        "            Image_widget = widgets.Image(value=open(Chemin_fichier, \"rb\").read(), format=\"jpg\", width=300, height=300) #Cree le widget permettant l'affichage de l'image File\n",
        "            Bouton_fleuri = widgets.Button(description=\"Fleuri\") #Cree le bouton a cliquer pour l'option \"Fleuri\"\n",
        "            Bouton_fleuri.on_click(lambda x: transf_Fleuri()) #Si on clique sur le bouton Fleuri, une fonction temporaire (lambda x) fait le lien entre le clic et la fonction de transfert vers Fleuri\n",
        "            Bouton_feuillu = widgets.Button(description=\"Feuillu\")\n",
        "            Bouton_feuillu.on_click(lambda x: transf_Feuillu())\n",
        "            Bouton_rejete = widgets.Button(description=\"Rejete\")\n",
        "            Bouton_rejete.on_click(lambda x: transf_Rejete())\n",
        "            Bouton_proche = widgets.Button(description=\"Trop proche\")\n",
        "            Bouton_proche.on_click(lambda x: transf_Proche)\n",
        "            container_widget = widgets.VBox([Image_widget, Bouton_fleuri, Bouton_feuillu, Bouton_proche, Bouton_rejete]) #Ramasse tous les widgets precedemment crees dans une seule fenetre\n",
        "            display(container_widget)\n",
        "        else:\n",
        "            Passer()\n",
        "    else:\n",
        "        print(\"Mission accomplie, 007. Felicitations.\")\n",
        "\n",
        "def transf_Fleuri(): #Definit la fonction qui sera utilisee si l'image est categorisee comme fleurie\n",
        "    global Chemin_fichier\n",
        "    Chemin_Fleuri = os.path.join(Directory, \"Fleuri\")\n",
        "    os.makedirs(Chemin_Fleuri, exist_ok=True) #cree le dossier destination \"Fleuri\" dans le dossier source. exist_ok=True fait en sorte que s'il existe deja, le code se poursuit quand meme\n",
        "    shutil.move(Chemin_fichier, Chemin_Fleuri)\n",
        "    clear_output()\n",
        "    global File\n",
        "    print(f\"Image precedente ({File}) transferee dans {Chemin_Fleuri}\")\n",
        "    global index\n",
        "    index = index+1\n",
        "    Fenetre_choix()\n",
        "\n",
        "def transf_Feuillu(): #Definit la fonction qui sera utilisee si l'image est categorisee comme feuillue\n",
        "    global Chemin_fichier \n",
        "    Chemin_Feuillu = os.path.join(Directory, \"Feuillu\")\n",
        "    os.makedirs(Chemin_Feuillu, exist_ok=True)\n",
        "    shutil.move(Chemin_fichier, Chemin_Feuillu)\n",
        "    clear_output()\n",
        "    global File\n",
        "    print(f\"Image precedente ({File}) transferee dans {Chemin_Feuillu}\")\n",
        "    global index\n",
        "    index = index+1\n",
        "    Fenetre_choix()\n",
        "\n",
        "def transf_Rejete(): #Definit la fonction qui sera utilisee si l'image est rejetee\n",
        "    global Chemin_fichier\n",
        "    Chemin_Rejete = os.path.join(Directory, \"Rejete\")\n",
        "    os.makedirs(Chemin_Rejete, exist_ok=True)\n",
        "    shutil.move(Chemin_fichier, Chemin_Rejete)\n",
        "    clear_output()\n",
        "    global File\n",
        "    print(f\"Image precedente ({File}) transferee dans {Chemin_Rejete}\") \n",
        "    global index\n",
        "    index = index+1\n",
        "    Fenetre_choix()\n",
        "\n",
        "def transf_Proche(): #Definit la fonction qui sera utilisee si l'image est categorisee comme trop proche\n",
        "    global Chemin_fichier \n",
        "    Chemin_Proche = os.path.join(Directory, \"Trop proche\")\n",
        "    os.makedirs(Chemin_Proche, exist_ok=True)\n",
        "    shutil.move(Chemin_fichier, Chemin_Proche)\n",
        "    clear_output()\n",
        "    global File\n",
        "    print(f\"Image precedente ({File}) transferee dans {Chemin_Proche}\")\n",
        "    global index\n",
        "    index = index+1\n",
        "    Fenetre_choix()\n",
        "\n",
        "def Passer(): #Definit ce qui se passe lorsqu'un fichier n'est pas en .jpeg\n",
        "    print(f\"fichier -{File}- ignore parce que pas en format .jpeg\")\n",
        "    global index\n",
        "    index = index+1\n",
        "    Fenetre_choix()"
      ],
      "metadata": {
        "id": "MmhxG2eKDiLJ"
      },
      "execution_count": null,
      "outputs": []
    },
    {
      "cell_type": "code",
      "source": [
        "Fenetre_choix() #Cellule a executer pour commencer le tri d'images. S'arrete une fois que toutes les images contenues dans le dossier \"Directory\" ont ete classees"
      ],
      "metadata": {
        "id": "5GhfvqBqEKY4"
      },
      "execution_count": null,
      "outputs": []
    }
  ]
}