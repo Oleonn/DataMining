{
  "nbformat": 4,
  "nbformat_minor": 0,
  "metadata": {
    "colab": {
      "provenance": [],
      "authorship_tag": "ABX9TyP0mSfTuKOzH6pN9aAh0rkJ",
      "include_colab_link": true
    },
    "kernelspec": {
      "name": "python3",
      "display_name": "Python 3"
    },
    "language_info": {
      "name": "python"
    }
  },
  "cells": [
    {
      "cell_type": "markdown",
      "metadata": {
        "id": "view-in-github",
        "colab_type": "text"
      },
      "source": [
        "<a href=\"https://colab.research.google.com/github/Oleonn/DataMining/blob/Classification/CNN_Classification_manuelle.ipynb\" target=\"_parent\"><img src=\"https://colab.research.google.com/assets/colab-badge.svg\" alt=\"Open In Colab\"/></a>"
      ]
    },
    {
      "cell_type": "code",
      "source": [
        "#-----Imports et installations-----\n",
        "#Pour se connecter au drive et acceder a ses fichiers\n",
        "from google.colab import drive\n",
        "drive.mount('/content/drive', force_remount=True)\n",
        "#Pour le transfert de fichiers et la creation de chemins d'acces\n",
        "import os\n",
        "import shutil\n",
        "#Pour l'affichage d'images\n",
        "import matplotlib.pyplot as plt\n",
        "from PIL import Image\n",
        "from IPython.display import display\n",
        "#Pour vider la console (utile pour la boucle)\n",
        "from IPython.display import clear_output\n",
        "#Pour remplacer la fonction input(), qui pose probleme\n",
        "from getpass import getpass\n",
        "\n",
        "#Pour peut-etre resoudre mon probleme?\n",
        "import threading\n",
        "\n",
        "clear_output()"
      ],
      "metadata": {
        "id": "Q298WA4K1BC8"
      },
      "execution_count": 1,
      "outputs": []
    },
    {
      "cell_type": "code",
      "source": [
        "#-----Objets a modifier avant le debut du classement-----\n",
        "#Copier ici le chemin d'acces vers le dossier source (ou se trouvent les fichiers a transferer)\n",
        "Directory = \"/content/drive/MyDrive/Projet_mellifere/Solidago_canadensis\"\n",
        "#Choix des caracteres associes a la classification\n",
        "Fleuri = \"e\" #Touche a taper en cas de photo fleurie\n",
        "Feuillu = \"o\" #Touche a taper en cas de photo feuillue\n",
        "Rejete = \"b\" #touche a taper en cas de photo rejetee\n",
        "\n",
        "#-----Objets importants-----\n",
        "Fichiers = os.listdir(Directory) # Genere une liste des fichiers/dossiers dans le dossier source\n",
        "\n",
        "#-----Definition des fonctions-----\n",
        "def transf_Fleuri(): #Definit la fonction qui sera utilisee si l'image est categorisee comme fleurie\n",
        "    Chemin_Fleuri = os.path.join(Directory, \"Fleuri\")\n",
        "    os.makedirs(Chemin_Fleuri, exist_ok=True) #cree le dossier destination \"Fleuri\" dans le dossier source. exist_ok=True fait en sorte que s'il existe deja, le code se poursuit quand meme\n",
        "    shutil.move(Directory, Chemin_Fleuri)\n",
        "\n",
        "def transf_Feuillu(): #Definit la fonction qui sera utilisee si l'image est categorisee comme feuillue\n",
        "    Chemin_Feuillu = os.path.join(Directory, \"Feuillu\")\n",
        "    os.makedirs(Chemin_Feuillu, exist_ok=True)\n",
        "    shutil.move(Directory, Chemin_Feuillu)\n",
        "\n",
        "def transf_Rejete(): #Definit la fonction qui sera utilisee si l'image est rejetee\n",
        "    Chemin_Rejete = os.path.join(Directory, \"Rejete\")\n",
        "    os.makedirs(Chemin_Rejete, exist_ok=True)\n",
        "    shutil.move(Directory, Chemin_Rejete)\n",
        "\n",
        "def Classement(): #En fonction d'un input, transfere le fichier vers le dossier approprie\n",
        "    while True:\n",
        "        Classe = input(prompt=(f\"Fleuri ({Fleuri}), feuillu ({Feuillu}) ou bien rejete ({Rejete})?\"))\n",
        "        if Classe == Fleuri:\n",
        "          #transf_Fleuri()\n",
        "          #print(f\"Image {File} transferee dans {Chemin_Fleuri}\")\n",
        "          print(\"Fleuri\")\n",
        "          break\n",
        "        elif Classe == Feuillu:\n",
        "          #transf_Feuillu()\n",
        "          #print(f\"Image {File} transferee dans {Chemin_Feuillu}\")\n",
        "          print(\"Feuillu\")\n",
        "          break\n",
        "        elif Classe == Rejete:\n",
        "          #transf_Rejete()\n",
        "          #print(f\"Image {File} transferee dans {Chemin_Rejete}\")\n",
        "          print(\"Rejete\")\n",
        "          break\n",
        "        else:\n",
        "          print(\"SVP entrer une des trois lettres prevues\")\n",
        "\n",
        "def Affich_Image(File): #Definit la fonction qui ouvre l'image (pour l'executer dans un second thread)\n",
        "    Chemin_fichier = os.path.join(Directory, File)\n",
        "    Img = Image.open(Chemin_fichier) #Ouvre l'image .jpeg dans un objet\n",
        "    plt.imshow(Img) #Affiche l'image\n",
        "    plt.axis('off')  #Enleve les echelles sur les cotes de l'image"
      ],
      "metadata": {
        "id": "C4V71JB5HsUA"
      },
      "execution_count": 2,
      "outputs": []
    },
    {
      "cell_type": "markdown",
      "source": [
        "**Tests** : \n",
        "Essai avec une boucle reduite. Dans l'ideal, je retirerais la ligne \"Fichiers = Fichiers[0:8]\" et tout fonctionnerait comme souhaite. Cependant, seulement la derniere image s'affiche, et seulement APRES avoir repondu au prompt."
      ],
      "metadata": {
        "id": "1jQXAc5qmW-7"
      }
    },
    {
      "cell_type": "code",
      "source": [
        "#-----Classification manuelle-----\n",
        "Fichiers = Fichiers[0:4]\n",
        "for File in Fichiers:\n",
        "    if File.endswith(\".jpeg\"):\n",
        "      Affich_Image(File)\n",
        "      Classement()"
      ],
      "metadata": {
        "id": "OwjZ25TfafZT"
      },
      "execution_count": null,
      "outputs": []
    },
    {
      "cell_type": "markdown",
      "source": [
        "Essai avec la meme boucle, mais cette fois avec un clear_output() qui permet theoriquement d'effacer le prompt et la photo entre chaque iteration de la boucle. J'ai remarque que le code stagne si je reponds trop vite au prompt. Si je reussis a me rendre lentement au bout de la liste, la derniere image est affichee APRES avoir repondu au prompt."
      ],
      "metadata": {
        "id": "HHemUftPnpJd"
      }
    },
    {
      "cell_type": "code",
      "source": [
        "#-----Classification manuelle-----\n",
        "Fichiers = Fichiers[0:4]\n",
        "for File in Fichiers:\n",
        "    if File.endswith(\".jpeg\"):\n",
        "      Affich_Image(File)\n",
        "      Classement()\n",
        "      clear_output()"
      ],
      "metadata": {
        "id": "tWc8ZyBTndv_"
      },
      "execution_count": null,
      "outputs": []
    },
    {
      "cell_type": "markdown",
      "source": [
        "Essai sans boucle. C'est comme si la fonction Classement() empeche l'affichage adequat de la fonction Affich_Image(). On peut voir qu'apres avoir entree l'input, clear_output() s'execute, mais la photo reussit malgre tout a s'afficher sans etre affectee par le clear_output(), comme si l'affichage ne s'executait reelement qu'apres tout le reste."
      ],
      "metadata": {
        "id": "p3TjvsQ_omSO"
      }
    },
    {
      "cell_type": "code",
      "source": [
        "#-----Classification manuelle-----\n",
        "File = Fichiers[0]\n",
        "if File.endswith(\".jpeg\"):\n",
        "  Affich_Image(File)\n",
        "  Classement()\n",
        "  clear_output()"
      ],
      "metadata": {
        "id": "2xxJPsR1neS7"
      },
      "execution_count": null,
      "outputs": []
    }
  ]
}