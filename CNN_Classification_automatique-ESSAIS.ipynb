{
  "nbformat": 4,
  "nbformat_minor": 0,
  "metadata": {
    "colab": {
      "provenance": [],
      "authorship_tag": "ABX9TyOjprPmv7JWuncBCfmEcyQD",
      "include_colab_link": true
    },
    "kernelspec": {
      "name": "python3",
      "display_name": "Python 3"
    },
    "language_info": {
      "name": "python"
    }
  },
  "cells": [
    {
      "cell_type": "markdown",
      "metadata": {
        "id": "view-in-github",
        "colab_type": "text"
      },
      "source": [
        "<a href=\"https://colab.research.google.com/github/Oleonn/DataMining/blob/Classification/CNN_Classification_automatique-ESSAIS.ipynb\" target=\"_parent\"><img src=\"https://colab.research.google.com/assets/colab-badge.svg\" alt=\"Open In Colab\"/></a>"
      ]
    },
    {
      "cell_type": "markdown",
      "source": [
        "CREATION DU MODELE"
      ],
      "metadata": {
        "id": "fXzh0kroskpx"
      }
    },
    {
      "cell_type": "code",
      "execution_count": 1,
      "metadata": {
        "id": "YYP-JSu1SxGO",
        "outputId": "5c0a2d20-e300-4658-b75d-584ea387f90b",
        "colab": {
          "base_uri": "https://localhost:8080/"
        }
      },
      "outputs": [
        {
          "output_type": "stream",
          "name": "stdout",
          "text": [
            "Mounted at /content/drive\n"
          ]
        }
      ],
      "source": [
        "#-----Imports et installations-----\n",
        "#Pour se connecter au drive et acceder a ses fichiers\n",
        "from google.colab import drive\n",
        "drive.mount('/content/drive', force_remount=True)\n",
        "#Pour l'apprentissage profond\n",
        "import os\n",
        "from fastai.vision.all import *\n",
        "from fastai.vision import *\n",
        "import pandas as pd"
      ]
    },
    {
      "cell_type": "code",
      "source": [
        "Espece_visee = \"Solcan\"\n",
        "Chemin_donnees = \"/content/drive/MyDrive/Projet_mellifere/Asclepias_syriaca\""
      ],
      "metadata": {
        "id": "eOGDUp6KqfxZ"
      },
      "execution_count": 2,
      "outputs": []
    },
    {
      "cell_type": "code",
      "source": [
        "Noms_classes = []\n",
        "for Noms_dossiers in os.listdir(Chemin_donnees):\n",
        "    if (\".\" in Noms_dossiers) or (Noms_dossiers==\"models\"): #Un dossier \"Models\" est cree automatiquement lors de l'entrainement, donc je souhaite l'exclure ici. Aussi, le \".\" exclut tous les fichiers avec extension\n",
        "        continue\n",
        "    else:\n",
        "        Noms_classes.append(Noms_dossiers)\n",
        "Noms_classes"
      ],
      "metadata": {
        "id": "Rimt7ReOr0s-",
        "outputId": "1e8639c2-7695-4304-b690-9a8a97a9e3ad",
        "colab": {
          "base_uri": "https://localhost:8080/"
        }
      },
      "execution_count": 4,
      "outputs": [
        {
          "output_type": "execute_result",
          "data": {
            "text/plain": [
              "['Rejete', 'Trop proche', 'Feuillu', 'Fleuri']"
            ]
          },
          "metadata": {},
          "execution_count": 4
        }
      ]
    },
    {
      "cell_type": "code",
      "source": [
        "Chemins_images = []\n",
        "Etiquettes = []\n",
        "\n",
        "for i in range(len(Noms_classes)):\n",
        "    Classe_nom = Noms_classes[i]\n",
        "    if (\".\" in Classe_nom) or (Classe_nom==\"models\"):\n",
        "       continue\n",
        "    else:\n",
        "        Noms_images = os.listdir(f\"{Chemin_donnees}/{Classe_nom}\")\n",
        "        for Image_nom in Noms_images:\n",
        "            Image_chemin = f\"{Chemin_donnees}/{Classe_nom}/{Image_nom}\"\n",
        "            Chemins_images.append(Image_chemin)\n",
        "            Etiquettes.append(i)"
      ],
      "metadata": {
        "id": "eWWW0KjOsQ3F"
      },
      "execution_count": 7,
      "outputs": []
    },
    {
      "cell_type": "code",
      "source": [
        "df = pd.DataFrame(\n",
        "    {\n",
        "        \"Nom\": Chemins_images,\n",
        "        \"Etiquette\": Etiquettes\n",
        "    }\n",
        ")\n",
        "df"
      ],
      "metadata": {
        "id": "gw5NrzaSxdMP"
      },
      "execution_count": null,
      "outputs": []
    },
    {
      "cell_type": "code",
      "source": [
        "df.to_csv(\n",
        "    path_or_buf=f\"{Chemin_donnees}/etiquettes.csv\",\n",
        "    index=False\n",
        ")"
      ],
      "metadata": {
        "id": "4gnBBzBXystt"
      },
      "execution_count": 10,
      "outputs": []
    },
    {
      "cell_type": "markdown",
      "source": [
        "Telechargement des donnees"
      ],
      "metadata": {
        "id": "u0Eag81U0IED"
      }
    },
    {
      "cell_type": "code",
      "source": [
        "dls = ImageDataLoaders.from_folder(\n",
        "      path=Chemin_donnees,\n",
        "      item_tfms=Resize(224),\n",
        "      bs=16,\n",
        "      batch_tfms=[Normalize.from_stats(*imagenet_stats), RandTransform()],\n",
        "      valid_pct=0.2\n",
        ")"
      ],
      "metadata": {
        "id": "YwUCPi8c0KgT"
      },
      "execution_count": 11,
      "outputs": []
    },
    {
      "cell_type": "markdown",
      "source": [
        "Creation du modele"
      ],
      "metadata": {
        "id": "6-K9e_w81CbH"
      }
    },
    {
      "cell_type": "code",
      "source": [
        "Modele = vision_learner(\n",
        "    dls=dls,\n",
        "    arch=models.resnet50,\n",
        "    metrics=[accuracy, error_rate]\n",
        ")"
      ],
      "metadata": {
        "id": "TQjXxNSI1EqN",
        "outputId": "8b2b11f1-f6f7-429d-8af8-d87d2a93f3af",
        "colab": {
          "base_uri": "https://localhost:8080/"
        }
      },
      "execution_count": 12,
      "outputs": [
        {
          "output_type": "stream",
          "name": "stderr",
          "text": [
            "/usr/local/lib/python3.10/dist-packages/torchvision/models/_utils.py:208: UserWarning: The parameter 'pretrained' is deprecated since 0.13 and may be removed in the future, please use 'weights' instead.\n",
            "  warnings.warn(\n",
            "/usr/local/lib/python3.10/dist-packages/torchvision/models/_utils.py:223: UserWarning: Arguments other than a weight enum or `None` for 'weights' are deprecated since 0.13 and may be removed in the future. The current behavior is equivalent to passing `weights=ResNet50_Weights.IMAGENET1K_V1`. You can also use `weights=ResNet50_Weights.DEFAULT` to get the most up-to-date weights.\n",
            "  warnings.warn(msg)\n",
            "Downloading: \"https://download.pytorch.org/models/resnet50-0676ba61.pth\" to /root/.cache/torch/hub/checkpoints/resnet50-0676ba61.pth\n",
            "100%|██████████| 97.8M/97.8M [00:00<00:00, 189MB/s]\n"
          ]
        }
      ]
    },
    {
      "cell_type": "code",
      "source": [
        "Modele.fine_tune(\n",
        "    epochs=1\n",
        ")"
      ],
      "metadata": {
        "id": "tdPM6DZ5ku4-",
        "outputId": "691a6dc6-25ec-4e42-f945-8c31228cb813",
        "colab": {
          "base_uri": "https://localhost:8080/",
          "height": 145
        }
      },
      "execution_count": 14,
      "outputs": [
        {
          "output_type": "display_data",
          "data": {
            "text/plain": [
              "<IPython.core.display.HTML object>"
            ],
            "text/html": [
              "\n",
              "<style>\n",
              "    /* Turns off some styling */\n",
              "    progress {\n",
              "        /* gets rid of default border in Firefox and Opera. */\n",
              "        border: none;\n",
              "        /* Needs to be in here for Safari polyfill so background images work as expected. */\n",
              "        background-size: auto;\n",
              "    }\n",
              "    progress:not([value]), progress:not([value])::-webkit-progress-bar {\n",
              "        background: repeating-linear-gradient(45deg, #7e7e7e, #7e7e7e 10px, #5c5c5c 10px, #5c5c5c 20px);\n",
              "    }\n",
              "    .progress-bar-interrupted, .progress-bar-interrupted::-webkit-progress-bar {\n",
              "        background: #F44336;\n",
              "    }\n",
              "</style>\n"
            ]
          },
          "metadata": {}
        },
        {
          "output_type": "display_data",
          "data": {
            "text/plain": [
              "<IPython.core.display.HTML object>"
            ],
            "text/html": [
              "<table border=\"1\" class=\"dataframe\">\n",
              "  <thead>\n",
              "    <tr style=\"text-align: left;\">\n",
              "      <th>epoch</th>\n",
              "      <th>train_loss</th>\n",
              "      <th>valid_loss</th>\n",
              "      <th>accuracy</th>\n",
              "      <th>error_rate</th>\n",
              "      <th>time</th>\n",
              "    </tr>\n",
              "  </thead>\n",
              "  <tbody>\n",
              "    <tr>\n",
              "      <td>0</td>\n",
              "      <td>0.571750</td>\n",
              "      <td>0.433420</td>\n",
              "      <td>0.902011</td>\n",
              "      <td>0.097989</td>\n",
              "      <td>1:07:57</td>\n",
              "    </tr>\n",
              "  </tbody>\n",
              "</table>"
            ]
          },
          "metadata": {}
        },
        {
          "output_type": "display_data",
          "data": {
            "text/plain": [
              "<IPython.core.display.HTML object>"
            ],
            "text/html": [
              "\n",
              "<style>\n",
              "    /* Turns off some styling */\n",
              "    progress {\n",
              "        /* gets rid of default border in Firefox and Opera. */\n",
              "        border: none;\n",
              "        /* Needs to be in here for Safari polyfill so background images work as expected. */\n",
              "        background-size: auto;\n",
              "    }\n",
              "    progress:not([value]), progress:not([value])::-webkit-progress-bar {\n",
              "        background: repeating-linear-gradient(45deg, #7e7e7e, #7e7e7e 10px, #5c5c5c 10px, #5c5c5c 20px);\n",
              "    }\n",
              "    .progress-bar-interrupted, .progress-bar-interrupted::-webkit-progress-bar {\n",
              "        background: #F44336;\n",
              "    }\n",
              "</style>\n"
            ]
          },
          "metadata": {}
        },
        {
          "output_type": "display_data",
          "data": {
            "text/plain": [
              "<IPython.core.display.HTML object>"
            ],
            "text/html": [
              "<table border=\"1\" class=\"dataframe\">\n",
              "  <thead>\n",
              "    <tr style=\"text-align: left;\">\n",
              "      <th>epoch</th>\n",
              "      <th>train_loss</th>\n",
              "      <th>valid_loss</th>\n",
              "      <th>accuracy</th>\n",
              "      <th>error_rate</th>\n",
              "      <th>time</th>\n",
              "    </tr>\n",
              "  </thead>\n",
              "  <tbody>\n",
              "    <tr>\n",
              "      <td>0</td>\n",
              "      <td>0.358692</td>\n",
              "      <td>0.299233</td>\n",
              "      <td>0.908716</td>\n",
              "      <td>0.091284</td>\n",
              "      <td>1:33:29</td>\n",
              "    </tr>\n",
              "  </tbody>\n",
              "</table>"
            ]
          },
          "metadata": {}
        }
      ]
    },
    {
      "cell_type": "code",
      "source": [
        "# #Nb_epochs = 1\n",
        "# #Performance = []\n",
        "\n",
        "# #for epoch in range(Nb_epochs):\n",
        "#     Modele.fit_one_cycle(1)\n",
        "#     Modele.save(f\"CNN_{Espece_visee}_epoch{epoch}.pth\")\n",
        "#     Perfo = Modele.recorder.final_record\n",
        "#     Performance.append(Perfo)"
      ],
      "metadata": {
        "id": "I2PDzCoh1kfT"
      },
      "execution_count": null,
      "outputs": []
    },
    {
      "cell_type": "markdown",
      "source": [
        "VALIDATION ASSISTEE"
      ],
      "metadata": {
        "id": "QqOK5OS0sohm"
      }
    },
    {
      "cell_type": "code",
      "source": [
        "import shutil\n",
        "from IPython.display import display\n",
        "#Pour vider la console (utile pour la boucle)\n",
        "from IPython.display import clear_output\n",
        "#Pour creer le widget qui permet l'affichage d'images et de boutons\n",
        "import ipywidgets as widgets\n",
        "\n",
        "clear_output()"
      ],
      "metadata": {
        "id": "PkR8u7a_mZ6Q"
      },
      "execution_count": 15,
      "outputs": []
    },
    {
      "cell_type": "code",
      "source": [
        "#-----Objets a modifier avant le debut du classement-----\n",
        "#Copier ici le chemin d'acces vers le dossier source (ou se trouvent les fichiers a transferer)\n",
        "Directory = \"/content/drive/MyDrive/Projet_mellifere/Solidago_canadensis\"\n",
        "\n",
        "#-----Objets importants-----\n",
        "Fichiers = os.listdir(Directory) # Genere une liste des fichiers/dossiers dans le dossier source\n",
        "index = 0\n",
        "\n",
        "#-----Definition des fonctions\n",
        "def Fenetre_choix():\n",
        "    global index\n",
        "    global File\n",
        "    global Chemin_fichier\n",
        "    if index <= (len(Fichiers)-1):\n",
        "        File = Fichiers[index]\n",
        "        if File.endswith(\".jpeg\"):\n",
        "            Chemin_fichier = os.path.join(Directory, File) #Cree le chemin d'acces pour le fichier File\n",
        "            Image_widget = widgets.Image(value=open(Chemin_fichier, \"rb\").read(), format=\"jpg\", width=300, height=300) #Cree le widget permettant l'affichage de l'image File\n",
        "            Prediction =\n",
        "            Bouton_fleuri = widgets.Button(description=\"Fleuri\") #Cree le bouton a cliquer pour l'option \"Fleuri\"\n",
        "            Bouton_fleuri.on_click(lambda x: transf_Fleuri()) #Si on clique sur le bouton Fleuri, une fonction temporaire (lambda x) fait le lien entre le clic et la fonction de transfert vers Fleuri\n",
        "            Bouton_feuillu = widgets.Button(description=\"Feuillu\")\n",
        "            Bouton_feuillu.on_click(lambda x: transf_Feuillu())\n",
        "            Bouton_rejete = widgets.Button(description=\"Rejete\")\n",
        "            Bouton_rejete.on_click(lambda x: transf_Rejete())\n",
        "            Bouton_proche = widgets.Button(description=\"Trop proche\")\n",
        "            Bouton_proche.on_click(lambda x: transf_Proche())\n",
        "            container_widget = widgets.VBox([Image_widget, Bouton_fleuri, Bouton_feuillu, Bouton_proche, Bouton_rejete]) #Ramasse tous les widgets precedemment crees dans une seule fenetre\n",
        "            display(container_widget)\n",
        "        else:\n",
        "            Passer()\n",
        "    else:\n",
        "        print(\"Mission accomplie, 007. Felicitations.\")\n",
        "\n",
        "def transf_Fleuri(): #Definit la fonction qui sera utilisee si l'image est categorisee comme fleurie\n",
        "    global Chemin_fichier\n",
        "    Chemin_Fleuri = os.path.join(Directory, \"Fleuri\")\n",
        "    os.makedirs(Chemin_Fleuri, exist_ok=True) #cree le dossier destination \"Fleuri\" dans le dossier source. exist_ok=True fait en sorte que s'il existe deja, le code se poursuit quand meme\n",
        "    shutil.move(Chemin_fichier, Chemin_Fleuri)\n",
        "    clear_output()\n",
        "    global File\n",
        "    print(f\"Image precedente ({File}) transferee dans {Chemin_Fleuri}\")\n",
        "    global index\n",
        "    index = index+1\n",
        "    Fenetre_choix()\n",
        "\n",
        "def transf_Feuillu(): #Definit la fonction qui sera utilisee si l'image est categorisee comme feuillue\n",
        "    global Chemin_fichier\n",
        "    Chemin_Feuillu = os.path.join(Directory, \"Feuillu\")\n",
        "    os.makedirs(Chemin_Feuillu, exist_ok=True)\n",
        "    shutil.move(Chemin_fichier, Chemin_Feuillu)\n",
        "    clear_output()\n",
        "    global File\n",
        "    print(f\"Image precedente ({File}) transferee dans {Chemin_Feuillu}\")\n",
        "    global index\n",
        "    index = index+1\n",
        "    Fenetre_choix()\n",
        "\n",
        "def transf_Rejete(): #Definit la fonction qui sera utilisee si l'image est rejetee\n",
        "    global Chemin_fichier\n",
        "    Chemin_Rejete = os.path.join(Directory, \"Rejete\")\n",
        "    os.makedirs(Chemin_Rejete, exist_ok=True)\n",
        "    shutil.move(Chemin_fichier, Chemin_Rejete)\n",
        "    clear_output()\n",
        "    global File\n",
        "    print(f\"Image precedente ({File}) transferee dans {Chemin_Rejete}\")\n",
        "    global index\n",
        "    index = index+1\n",
        "    Fenetre_choix()\n",
        "\n",
        "def transf_Proche(): #Definit la fonction qui sera utilisee si l'image est categorisee comme trop proche\n",
        "    global Chemin_fichier\n",
        "    Chemin_Proche = os.path.join(Directory, \"Trop proche\")\n",
        "    os.makedirs(Chemin_Proche, exist_ok=True)\n",
        "    shutil.move(Chemin_fichier, Chemin_Proche)\n",
        "    clear_output()\n",
        "    global File\n",
        "    print(f\"Image precedente ({File}) transferee dans {Chemin_Proche}\")\n",
        "    global index\n",
        "    index = index+1\n",
        "    Fenetre_choix()\n",
        "\n",
        "def Passer(): #Definit ce qui se passe lorsqu'un fichier n'est pas en .jpeg\n",
        "    print(f\"fichier -{File}- ignore parce que pas en format .jpeg\")\n",
        "    global index\n",
        "    index = index+1\n",
        "    Fenetre_choix()\n",
        ""
      ],
      "metadata": {
        "id": "xtdU-GiMswqr"
      },
      "execution_count": null,
      "outputs": []
    },
    {
      "cell_type": "code",
      "source": [
        "Fenetre_choix() #Cellule a executer pour commencer le tri d'images. S'arrete une fois que toutes les images contenues dans le dossier \"Directory\" ont ete classees"
      ],
      "metadata": {
        "id": "qJUzNJ0KtFUI"
      },
      "execution_count": null,
      "outputs": []
    }
  ]
}