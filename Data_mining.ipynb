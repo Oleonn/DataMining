{
  "nbformat": 4,
  "nbformat_minor": 0,
  "metadata": {
    "colab": {
      "provenance": [],
      "authorship_tag": "ABX9TyOGK4kxWQ06S/sFLh1D4Ecg",
      "include_colab_link": true
    },
    "kernelspec": {
      "name": "python3",
      "display_name": "Python 3"
    },
    "language_info": {
      "name": "python"
    }
  },
  "cells": [
    {
      "cell_type": "markdown",
      "metadata": {
        "id": "view-in-github",
        "colab_type": "text"
      },
      "source": [
        "<a href=\"https://colab.research.google.com/github/Oleonn/DataMining/blob/Data-mining-Python/Data_mining.ipynb\" target=\"_parent\"><img src=\"https://colab.research.google.com/assets/colab-badge.svg\" alt=\"Open In Colab\"/></a>"
      ]
    },
    {
      "cell_type": "code",
      "execution_count": null,
      "metadata": {
        "id": "GGRU67zmpbiZ"
      },
      "outputs": [],
      "source": [
        "pip install pyinaturalist"
      ]
    },
    {
      "cell_type": "markdown",
      "source": [
        "API pour INaturalist qui permet de telecharger des ***photos***"
      ],
      "metadata": {
        "id": "_Jwlo6aDzZpy"
      }
    },
    {
      "cell_type": "code",
      "source": [
        "from pyinaturalist import get_observations, Observation, pprint\n",
        "Solcan_reponse = get_observations(photos=True, quality_grade=\"research\", taxon_name=\"Solidago canadensis\")\n",
        "print"
      ],
      "metadata": {
        "id": "g7GDUIrs-g5m"
      },
      "execution_count": null,
      "outputs": []
    },
    {
      "cell_type": "code",
      "source": [
        "import json\n",
        "with open(\"store.json\") as json_file:\n",
        "  data = json.load(json_file)"
      ],
      "metadata": {
        "colab": {
          "base_uri": "https://localhost:8080/",
          "height": 209
        },
        "id": "SV8f4C6aJgP_",
        "outputId": "8a52df84-99da-42d7-a5f9-e3adabc3441a"
      },
      "execution_count": null,
      "outputs": [
        {
          "output_type": "error",
          "ename": "FileNotFoundError",
          "evalue": "ignored",
          "traceback": [
            "\u001b[0;31m---------------------------------------------------------------------------\u001b[0m",
            "\u001b[0;31mFileNotFoundError\u001b[0m                         Traceback (most recent call last)",
            "\u001b[0;32m<ipython-input-27-76d1c7bf04ac>\u001b[0m in \u001b[0;36m<cell line: 2>\u001b[0;34m()\u001b[0m\n\u001b[1;32m      1\u001b[0m \u001b[0;32mimport\u001b[0m \u001b[0mjson\u001b[0m\u001b[0;34m\u001b[0m\u001b[0;34m\u001b[0m\u001b[0m\n\u001b[0;32m----> 2\u001b[0;31m \u001b[0;32mwith\u001b[0m \u001b[0mopen\u001b[0m\u001b[0;34m(\u001b[0m\u001b[0;34m\"store.json\"\u001b[0m\u001b[0;34m)\u001b[0m \u001b[0;32mas\u001b[0m \u001b[0mjson_file\u001b[0m\u001b[0;34m:\u001b[0m\u001b[0;34m\u001b[0m\u001b[0;34m\u001b[0m\u001b[0m\n\u001b[0m\u001b[1;32m      3\u001b[0m   \u001b[0mdata\u001b[0m \u001b[0;34m=\u001b[0m \u001b[0mjson\u001b[0m\u001b[0;34m.\u001b[0m\u001b[0mload\u001b[0m\u001b[0;34m(\u001b[0m\u001b[0mjson_file\u001b[0m\u001b[0;34m)\u001b[0m\u001b[0;34m\u001b[0m\u001b[0;34m\u001b[0m\u001b[0m\n",
            "\u001b[0;31mFileNotFoundError\u001b[0m: [Errno 2] No such file or directory: 'store.json'"
          ]
        }
      ]
    },
    {
      "cell_type": "code",
      "source": [
        "from pyinaturalist.v1.observations import get_observations\n",
        "help(get_observations)"
      ],
      "metadata": {
        "colab": {
          "base_uri": "https://localhost:8080/"
        },
        "id": "-Gm1LdTQ840c",
        "outputId": "cd24bdf0-4be3-476f-ad55-6cb4d9e52646"
      },
      "execution_count": null,
      "outputs": [
        {
          "output_type": "stream",
          "name": "stdout",
          "text": [
            "Help on function get_observations in module pyinaturalist.v1.observations:\n",
            "\n",
            "get_observations(q: Optional[str] = None, d1: Union[datetime.date, datetime.datetime, str, NoneType] = None, d2: Union[datetime.date, datetime.datetime, str, NoneType] = None, day: Union[int, Iterable[int], NoneType] = None, month: Union[int, Iterable[int], NoneType] = None, year: Union[int, Iterable[int], NoneType] = None, license: Union[str, Iterable[str], NoneType] = None, list_id: Optional[int] = None, photo_license: Union[str, Iterable[str], NoneType] = None, out_of_range: Optional[bool] = None, quality_grade: Optional[str] = None, id: Union[int, Iterable[int], NoneType] = None, taxon_id: Union[int, Iterable[int], NoneType] = None, taxon_name: Union[str, Iterable[str], NoneType] = None, iconic_taxa: Union[str, Iterable[str], NoneType] = None, updated_since: Union[datetime.datetime, str, NoneType] = None, acc: Optional[bool] = None, captive: Optional[bool] = None, endemic: Optional[bool] = None, geo: Optional[bool] = None, id_please: Optional[bool] = None, identified: Optional[bool] = None, introduced: Optional[bool] = None, mappable: Optional[bool] = None, native: Optional[bool] = None, pcid: Optional[bool] = None, photos: Optional[bool] = None, popular: Optional[bool] = None, sounds: Optional[bool] = None, taxon_is_active: Optional[bool] = None, threatened: Optional[bool] = None, verifiable: Optional[bool] = None, not_id: Union[int, Iterable[int], NoneType] = None, sound_license: Union[str, Iterable[str], NoneType] = None, ofv_datatype: Union[str, Iterable[str], NoneType] = None, place_id: Union[int, Iterable[int], NoneType] = None, project_id: Union[int, Iterable[int], NoneType] = None, rank: Union[str, Iterable[str], NoneType] = None, site_id: Union[str, Iterable[str], NoneType] = None, without_taxon_id: Union[int, Iterable[int], NoneType] = None, user_id: Union[int, Iterable[int], str, Iterable[str], NoneType] = None, user_login: Union[str, Iterable[str], NoneType] = None, ident_user_id: Union[int, Iterable[int], str, Iterable[str], NoneType] = None, term_id: Union[int, Iterable[int], NoneType] = None, term_value_id: Union[int, Iterable[int], NoneType] = None, without_term_value_id: Union[int, Iterable[int], NoneType] = None, acc_above: Optional[str] = None, acc_below: Optional[str] = None, acc_below_or_unknown: Optional[str] = None, created_d1: Union[datetime.datetime, str, NoneType] = None, created_d2: Union[datetime.datetime, str, NoneType] = None, created_on: Union[datetime.date, datetime.datetime, str, NoneType] = None, observed_on: Union[datetime.date, datetime.datetime, str, NoneType] = None, unobserved_by_user_id: Optional[int] = None, apply_project_rules_for: Optional[str] = None, cs: Optional[str] = None, csa: Optional[str] = None, csi: Union[str, Iterable[str], NoneType] = None, geoprivacy: Union[str, Iterable[str], NoneType] = None, taxon_geoprivacy: Union[str, Iterable[str], NoneType] = None, max_rank: Optional[str] = None, min_rank: Optional[str] = None, hrank: Optional[str] = None, lrank: Optional[str] = None, id_above: Optional[int] = None, id_below: Optional[int] = None, identifications: Optional[str] = None, lat: Optional[float] = None, lng: Optional[float] = None, radius: Optional[float] = None, not_in_project: Union[int, str, NoneType] = None, not_matching_project_rules_for: Union[int, str, NoneType] = None, search_on: Optional[str] = None, viewer_id: Optional[int] = None, reviewed: Optional[bool] = None, locale: Optional[str] = None, preferred_place_id: Optional[int] = None, ttl: Optional[str] = None, nelat: Optional[float] = None, nelng: Optional[float] = None, swlat: Optional[float] = None, swlng: Optional[float] = None, page: Optional[int] = None, per_page: Optional[int] = None, order: Optional[str] = None, order_by: Optional[str] = None, count_only: Optional[bool] = None, reverse: Optional[bool] = None, only_id: bool = False, access_token: Optional[str] = None, dry_run: Optional[bool] = False, session: Optional[requests.sessions.Session] = None, **kwargs) -> Dict[str, Any]\n",
            "    Search observations\n",
            "    \n",
            "    .. rubric:: Notes\n",
            "    \n",
            "    * :fas:`lock-open` :ref:`Optional authentication <auth>` (For private/obscured coordinates)\n",
            "    * API reference: :v1:`GET /observations <Observations/get_observations>`\n",
            "    \n",
            "    Args:\n",
            "        q: Search observation properties\n",
            "        d1: Must be observed on or after this date\n",
            "        d2: Must be observed on or before this date\n",
            "        day: Must be observed within this day of the month\n",
            "        month: Must be observed within this month\n",
            "        year: Must be observed within this year\n",
            "        license: Observation must have this license\n",
            "        photo_license: Must have at least one photo with this license\n",
            "        out_of_range: Observations whose taxa are outside their known ranges\n",
            "        list_id: Taxon must be in the list with this ID\n",
            "        quality_grade: Must have this quality grade\n",
            "        id: Must have this observation ID\n",
            "        taxon_id: Only show observations of these taxa and their descendants\n",
            "        taxon_name: Taxon must have a scientific or common name matching this string\n",
            "        iconic_taxa: Taxon must by within this iconic taxon\n",
            "        updated_since: Must be updated since this time\n",
            "        acc: Whether or not positional accuracy / coordinate uncertainty has been specified\n",
            "        captive: Captive or cultivated observations\n",
            "        endemic: Observations whose taxa are endemic to their location\n",
            "        geo: Observations that are georeferenced\n",
            "        id_please: Observations with the **deprecated** 'ID, Please!' flag.\n",
            "            Note that this will return observations, but that this attribute is no longer used.\n",
            "        identified: Observations that have community identifications\n",
            "        introduced: Observations whose taxa are introduced in their location\n",
            "        mappable: Observations that show on map tiles\n",
            "        native: Observations whose taxa are native to their location\n",
            "        pcid: Observations identified by the curator of a project. If the ``project_id`` parameter\n",
            "            is also specified, this will only consider observations identified by curators of the\n",
            "            specified project(s)\n",
            "        photos: Observations with photos\n",
            "        popular: Observations that have been favorited by at least one user\n",
            "        sounds: Observations with sounds\n",
            "        taxon_is_active: Observations of active taxon concepts\n",
            "        threatened: Observations whose taxa are threatened in their location\n",
            "        verifiable: Observations with a ``quality_grade`` of either ``needs_id`` or ``research``.\n",
            "            Equivalent to ``quality_grade=needs_id,research``\n",
            "        not_id: Must not have this ID\n",
            "        place_id: Must be observed within the place with this ID\n",
            "        project_id: Must be added to the project this ID or slug\n",
            "        rank: Taxon must have this rank\n",
            "        site_id: Must be affiliated with the iNaturalist network website with this ID\n",
            "        ofv_datatype: Must have an observation field value with this datatype\n",
            "        sound_license: Must have at least one sound with this license\n",
            "        without_taxon_id: Exclude observations of these taxa and their descendants\n",
            "        user_id: Observer must have this user ID or login\n",
            "        user_login: Observer must have this user login\n",
            "        ident_user_id: Identifier must have this user ID or login\n",
            "        term_id: Must have an annotation using this controlled term ID\n",
            "        term_value_id: Must have an annotation using this controlled value ID.\n",
            "            Must be combined with the ``term_id`` parameter\n",
            "        without_term_value_id: Exclude observations with annotations using this controlled value ID.\n",
            "            Must be combined with the ``term_id`` parameter\n",
            "        acc_above: Must have an positional accuracy above this value (meters)\n",
            "        acc_below: Must have an positional accuracy below this value (meters)\n",
            "        acc_below_or_unknown: Must have an positional accuracy below this value (meters) or unknown\n",
            "        created_d1: Must be created at or after this time\n",
            "        created_d2: Must be created at or before this time\n",
            "        created_on: Must be created on this date\n",
            "        observed_on: Must be observed on this date\n",
            "        unobserved_by_user_id: Must not be of a taxon previously observed by this user\n",
            "        apply_project_rules_for: Must match the rules of the project with this ID or slug\n",
            "        cs: Taxon must have this conservation status code. If the ``place_id`` parameter is also\n",
            "            specified, this will only consider statuses specific to that place\n",
            "        csa: Taxon must have a conservation status from this authority. If the ``place_id`` parameter is\n",
            "            also specified, this will only consider statuses specific to that place\n",
            "        csi: Taxon must have this IUCN conservation status. If the ``place_id`` parameter is also\n",
            "            specified, this will only consider statuses specific to that place\n",
            "        geoprivacy: Must have this geoprivacy setting\n",
            "        taxon_geoprivacy: Filter observations by the most conservative geoprivacy applied by a\n",
            "            conservation status associated with one of the taxa proposed in the current\n",
            "            identifications.\n",
            "        hrank: Taxon must have this rank or lower\n",
            "        lrank: Taxon must have this rank or higher\n",
            "        id_above: Must have an ID above this value\n",
            "        id_below: Must have an ID below this value\n",
            "        identifications: Identifications must meet these criteria\n",
            "        lat: Must be within a ``radius`` kilometer circle around this lat/lng (lat, lng, radius)\n",
            "        lng: Must be within a ``radius`` kilometer circle around this lat/lng (lat, lng, radius)\n",
            "        radius: Must be within a {radius} kilometer circle around this lat/lng (lat, lng, radius)\n",
            "        not_in_project: Must not be in the project with this ID or slug\n",
            "        not_matching_project_rules_for: Must not match the rules of the project with this ID or slug\n",
            "        search_on: Properties to search on, when combined with q. Searches across all properties by\n",
            "            default\n",
            "        viewer_id: See reviewed\n",
            "        reviewed: Observations have been reviewed by the user with ID equal to the value of the\n",
            "            ``viewer_id`` parameter\n",
            "        locale: Locale preference for taxon common names\n",
            "        preferred_place_id: Place preference for regional taxon common names\n",
            "        ttl: Set the ``Cache-Control`` HTTP header with this value as ``max-age``, in seconds\n",
            "        nelat: NE latitude of bounding box\n",
            "        nelng: NE longitude of bounding box\n",
            "        swlat: SW latitude of bounding box\n",
            "        swlng: SW longitude of bounding box\n",
            "        page: Page number of results to return\n",
            "        per_page: Number of results to return in a page. The maximum value is generally 200,\n",
            "            unless otherwise noted\n",
            "        order: Sort order\n",
            "        order_by: Field to sort on\n",
            "        count_only: Only return a count of results; alias for ``per_page=0``\n",
            "        reverse: Reverse the order of results; alias for ``order='descending'``\n",
            "        only_id: Return only the record IDs\n",
            "        access_token: An access token for user authentication, as returned by :py:func:`.get_access_token()`\n",
            "        dry_run: Just log the request instead of sending a real request\n",
            "        session: An existing `Session object <https://docs.python-requests.org/en/latest/user/advanced/>`_ to use instead of creating a new one\n",
            "    \n",
            "    Returns:\n",
            "        Response dict containing observation records\n",
            "    \n",
            "    Examples:\n",
            "        Get observations of Monarch butterflies with photos + public location info,\n",
            "        on a specific date in the provice of Saskatchewan, CA (place ID 7953):\n",
            "        \n",
            "        >>> response = get_observations(\n",
            "        >>>     taxon_name='Danaus plexippus',\n",
            "        >>>     created_on='2020-08-27',\n",
            "        >>>     photos=True,\n",
            "        >>>     geo=True,\n",
            "        >>>     geoprivacy='open',\n",
            "        >>>     place_id=7953,\n",
            "        >>> )\n",
            "        \n",
            "        Get basic info for observations in response:\n",
            "        \n",
            "        >>> pprint(response)\n",
            "        '[57754375] Species: Danaus plexippus (Monarch) observed by samroom on 2020-08-27 at Railway Ave, Wilcox, SK'\n",
            "        '[57707611] Species: Danaus plexippus (Monarch) observed by ingridt3 on 2020-08-26 at Michener Dr, Regina, SK'\n",
            "        \n",
            "        .. admonition:: Example Response\n",
            "            :class: toggle\n",
            "        \n",
            "            .. literalinclude:: ../sample_data/get_observations_node.py\n",
            "\n"
          ]
        }
      ]
    }
  ]
}